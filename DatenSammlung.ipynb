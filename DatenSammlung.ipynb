{
 "metadata": {
  "language_info": {
   "codemirror_mode": {
    "name": "ipython",
    "version": 3
   },
   "file_extension": ".py",
   "mimetype": "text/x-python",
   "name": "python",
   "nbconvert_exporter": "python",
   "pygments_lexer": "ipython3",
   "version": "3.7.10-final"
  },
  "orig_nbformat": 2,
  "kernelspec": {
   "name": "python3",
   "display_name": "Python 3.7.10 64-bit (virtualenv)",
   "metadata": {
    "interpreter": {
     "hash": "0308cd65a89b2c580fd9b73d5e60ec4f57a81823b161c5c9da8c81fb7fb1cd60"
    }
   }
  }
 },
 "nbformat": 4,
 "nbformat_minor": 2,
 "cells": [
  {
   "cell_type": "code",
   "execution_count": 1,
   "metadata": {},
   "outputs": [],
   "source": [
    "import pandas as pd \n",
    "import glob"
   ]
  },
  {
   "cell_type": "code",
   "execution_count": 15,
   "metadata": {},
   "outputs": [],
   "source": [
    "download_dates = pd.date_range(start='20200403', end='20210307').strftime('%Y%m%d')"
   ]
  },
  {
   "cell_type": "code",
   "execution_count": 16,
   "metadata": {},
   "outputs": [
    {
     "output_type": "execute_result",
     "data": {
      "text/plain": [
       "Index(['20200403', '20200404', '20200405', '20200406', '20200407', '20200408',\n",
       "       '20200409', '20200410', '20200411', '20200412',\n",
       "       ...\n",
       "       '20210226', '20210227', '20210228', '20210301', '20210302', '20210303',\n",
       "       '20210304', '20210305', '20210306', '20210307'],\n",
       "      dtype='object', length=339)"
      ]
     },
     "metadata": {},
     "execution_count": 16
    }
   ],
   "source": [
    "download_dates"
   ]
  },
  {
   "cell_type": "code",
   "execution_count": 17,
   "metadata": {},
   "outputs": [],
   "source": [
    "base_url = (\"https://www.lgl.bayern.de/gesundheit/infektionsschutz/infektionskrankheiten_a_z/coronavirus/karte_coronavirus/fallzahlen_archiv/\") #  add format option to year "
   ]
  },
  {
   "cell_type": "code",
   "execution_count": 18,
   "metadata": {},
   "outputs": [
    {
     "output_type": "execute_result",
     "data": {
      "text/plain": [
       "'https://www.lgl.bayern.de/gesundheit/infektionsschutz/infektionskrankheiten_a_z/coronavirus/karte_coronavirus/fallzahlen_archiv/'"
      ]
     },
     "metadata": {},
     "execution_count": 18
    }
   ],
   "source": [
    "base_url"
   ]
  },
  {
   "cell_type": "code",
   "execution_count": 19,
   "metadata": {},
   "outputs": [],
   "source": [
    "#  create list of remote URL from base URL\n",
    "list_of_url = [base_url+date+str('_LK_coronazahlen.csv') for date in download_dates]\n"
   ]
  },
  {
   "cell_type": "code",
   "execution_count": 14,
   "metadata": {
    "tags": []
   },
   "outputs": [],
   "source": [
    "list_of_url;"
   ]
  },
  {
   "cell_type": "code",
   "execution_count": 22,
   "metadata": {},
   "outputs": [
    {
     "output_type": "error",
     "ename": "IndentationError",
     "evalue": "unexpected indent (<ipython-input-22-53d75c2af647>, line 5)",
     "traceback": [
      "\u001b[1;36m  File \u001b[1;32m\"<ipython-input-22-53d75c2af647>\"\u001b[1;36m, line \u001b[1;32m5\u001b[0m\n\u001b[1;33m    df = pd.concat(tempdf)\u001b[0m\n\u001b[1;37m    ^\u001b[0m\n\u001b[1;31mIndentationError\u001b[0m\u001b[1;31m:\u001b[0m unexpected indent\n"
     ]
    }
   ],
   "source": [
    "#  download and combine multiple files into one DataFrame\n",
    "df = pd.DataFrame()\n",
    "for url in list_of_url:\n",
    "    try:tempdf = pd.read_csv(url, encoding='latin-1',delimiter=';')\n",
    "        df = pd.concat(tempdf)\n",
    "    except: print(str('no data for')+url)\n",
    "\n",
    "\n"
   ]
  },
  {
   "cell_type": "code",
   "execution_count": null,
   "metadata": {},
   "outputs": [],
   "source": []
  },
  {
   "cell_type": "code",
   "execution_count": null,
   "metadata": {},
   "outputs": [],
   "source": [
    "https://www.lgl.bayern.de/gesundheit/infektionsschutz/infektionskrankheiten_a_z/coronavirus/karte_coronavirus/fallzahlen_archiv/20210307.csv"
   ]
  },
  {
   "cell_type": "code",
   "execution_count": 24,
   "metadata": {},
   "outputs": [],
   "source": [
    "df = pd.read_csv('https://www.lgl.bayern.de/gesundheit/infektionsschutz/infektionskrankheiten_a_z/coronavirus/karte_coronavirus/fallzahlen_archiv/20200404_LK_coronazahlen.csv', encoding='latin-1',delimiter=';')"
   ]
  },
  {
   "cell_type": "code",
   "execution_count": 26,
   "metadata": {},
   "outputs": [],
   "source": [
    "df['Date'] = '20200404'"
   ]
  },
  {
   "cell_type": "code",
   "execution_count": 27,
   "metadata": {},
   "outputs": [
    {
     "output_type": "execute_result",
     "data": {
      "text/plain": [
       "  Regierungsbezirk Land-/Stadtkreis  Anzahl Fälle  Änderung zum Vortag Fälle  \\\n",
       "0              LK Aichach-Friedberg           164                         10   \n",
       "1                      LK Altötting           233                         29   \n",
       "2                LK Amberg-Sulzbach           142                         21   \n",
       "3                        LK Ansbach           250                         13   \n",
       "4                  LK Aschaffenburg           210                         23   \n",
       "\n",
       "   Anzahl Todesfälle  Änderung zum Vortag Todesfälle  Population  \\\n",
       "0                  3                               0      133596   \n",
       "1                  6                               1      111210   \n",
       "2                  3                               0      103109   \n",
       "3                  1                               1      183949   \n",
       "4                 12                               2      174208   \n",
       "\n",
       "  Fälle/100.000 kumulativ  Fälle der letzten 7 Tage 7-Tages-Inzidenz      Date  \n",
       "0                  122,76                        68             50,9  20200404  \n",
       "1                  209,51                       138           124,09  20200404  \n",
       "2                  137,72                        86            83,41  20200404  \n",
       "3                  135,91                       130            70,67  20200404  \n",
       "4                  120,55                        94            53,96  20200404  "
      ],
      "text/html": "<div>\n<style scoped>\n    .dataframe tbody tr th:only-of-type {\n        vertical-align: middle;\n    }\n\n    .dataframe tbody tr th {\n        vertical-align: top;\n    }\n\n    .dataframe thead th {\n        text-align: right;\n    }\n</style>\n<table border=\"1\" class=\"dataframe\">\n  <thead>\n    <tr style=\"text-align: right;\">\n      <th></th>\n      <th>Regierungsbezirk Land-/Stadtkreis</th>\n      <th>Anzahl Fälle</th>\n      <th>Änderung zum Vortag Fälle</th>\n      <th>Anzahl Todesfälle</th>\n      <th>Änderung zum Vortag Todesfälle</th>\n      <th>Population</th>\n      <th>Fälle/100.000 kumulativ</th>\n      <th>Fälle der letzten 7 Tage</th>\n      <th>7-Tages-Inzidenz</th>\n      <th>Date</th>\n    </tr>\n  </thead>\n  <tbody>\n    <tr>\n      <th>0</th>\n      <td>LK Aichach-Friedberg</td>\n      <td>164</td>\n      <td>10</td>\n      <td>3</td>\n      <td>0</td>\n      <td>133596</td>\n      <td>122,76</td>\n      <td>68</td>\n      <td>50,9</td>\n      <td>20200404</td>\n    </tr>\n    <tr>\n      <th>1</th>\n      <td>LK Altötting</td>\n      <td>233</td>\n      <td>29</td>\n      <td>6</td>\n      <td>1</td>\n      <td>111210</td>\n      <td>209,51</td>\n      <td>138</td>\n      <td>124,09</td>\n      <td>20200404</td>\n    </tr>\n    <tr>\n      <th>2</th>\n      <td>LK Amberg-Sulzbach</td>\n      <td>142</td>\n      <td>21</td>\n      <td>3</td>\n      <td>0</td>\n      <td>103109</td>\n      <td>137,72</td>\n      <td>86</td>\n      <td>83,41</td>\n      <td>20200404</td>\n    </tr>\n    <tr>\n      <th>3</th>\n      <td>LK Ansbach</td>\n      <td>250</td>\n      <td>13</td>\n      <td>1</td>\n      <td>1</td>\n      <td>183949</td>\n      <td>135,91</td>\n      <td>130</td>\n      <td>70,67</td>\n      <td>20200404</td>\n    </tr>\n    <tr>\n      <th>4</th>\n      <td>LK Aschaffenburg</td>\n      <td>210</td>\n      <td>23</td>\n      <td>12</td>\n      <td>2</td>\n      <td>174208</td>\n      <td>120,55</td>\n      <td>94</td>\n      <td>53,96</td>\n      <td>20200404</td>\n    </tr>\n  </tbody>\n</table>\n</div>"
     },
     "metadata": {},
     "execution_count": 27
    }
   ],
   "source": [
    "df.head()"
   ]
  },
  {
   "cell_type": "code",
   "execution_count": 27,
   "metadata": {},
   "outputs": [],
   "source": [
    "df = df.loc[df['Regierungsbezirk Land-/Stadtkreis'] == 'SK Nürnberg']"
   ]
  },
  {
   "cell_type": "code",
   "execution_count": 28,
   "metadata": {},
   "outputs": [
    {
     "output_type": "execute_result",
     "data": {
      "text/plain": [
       "   Regierungsbezirk Land-/Stadtkreis  Anzahl Fälle  Änderung zum Vortag Fälle  \\\n",
       "87                       SK Nürnberg         24144                         79   \n",
       "\n",
       "    Anzahl Todesfälle  Änderung zum Vortag Todesfälle  Population  \\\n",
       "87                800                               0      518370   \n",
       "\n",
       "   Fälle/100.000 kumulativ  Fälle der letzten 7 Tage 7-Tages-Inzidenz  \n",
       "87                 4657,68                       427            82,37  "
      ],
      "text/html": "<div>\n<style scoped>\n    .dataframe tbody tr th:only-of-type {\n        vertical-align: middle;\n    }\n\n    .dataframe tbody tr th {\n        vertical-align: top;\n    }\n\n    .dataframe thead th {\n        text-align: right;\n    }\n</style>\n<table border=\"1\" class=\"dataframe\">\n  <thead>\n    <tr style=\"text-align: right;\">\n      <th></th>\n      <th>Regierungsbezirk Land-/Stadtkreis</th>\n      <th>Anzahl Fälle</th>\n      <th>Änderung zum Vortag Fälle</th>\n      <th>Anzahl Todesfälle</th>\n      <th>Änderung zum Vortag Todesfälle</th>\n      <th>Population</th>\n      <th>Fälle/100.000 kumulativ</th>\n      <th>Fälle der letzten 7 Tage</th>\n      <th>7-Tages-Inzidenz</th>\n    </tr>\n  </thead>\n  <tbody>\n    <tr>\n      <th>87</th>\n      <td>SK Nürnberg</td>\n      <td>24144</td>\n      <td>79</td>\n      <td>800</td>\n      <td>0</td>\n      <td>518370</td>\n      <td>4657,68</td>\n      <td>427</td>\n      <td>82,37</td>\n    </tr>\n  </tbody>\n</table>\n</div>"
     },
     "metadata": {},
     "execution_count": 28
    }
   ],
   "source": [
    "df"
   ]
  },
  {
   "cell_type": "code",
   "execution_count": null,
   "metadata": {},
   "outputs": [],
   "source": []
  }
 ]
}