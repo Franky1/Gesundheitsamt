{
 "metadata": {
  "language_info": {
   "codemirror_mode": {
    "name": "ipython",
    "version": 3
   },
   "file_extension": ".py",
   "mimetype": "text/x-python",
   "name": "python",
   "nbconvert_exporter": "python",
   "pygments_lexer": "ipython3",
   "version": "3.7.10-final"
  },
  "orig_nbformat": 2,
  "kernelspec": {
   "name": "python3",
   "display_name": "Python 3",
   "language": "python"
  }
 },
 "nbformat": 4,
 "nbformat_minor": 2,
 "cells": [
  {
   "cell_type": "code",
   "execution_count": 46,
   "metadata": {},
   "outputs": [],
   "source": [
    "import pandas as pd \n",
    "import glob\n",
    "from datetime import date\n",
    "from wetterdienst import Wetterdienst"
   ]
  },
  {
   "source": [
    "# Inzidenzwerte holen"
   ],
   "cell_type": "markdown",
   "metadata": {}
  },
  {
   "cell_type": "code",
   "execution_count": 3,
   "metadata": {},
   "outputs": [
    {
     "output_type": "stream",
     "name": "stdout",
     "text": [
      "Today's date: 2021-03-10\n"
     ]
    }
   ],
   "source": [
    "#Datum von heute holen\n",
    "today = date.today()\n",
    "print(\"Today's date:\", today)"
   ]
  },
  {
   "cell_type": "code",
   "execution_count": 96,
   "metadata": {},
   "outputs": [
    {
     "output_type": "stream",
     "name": "stdout",
     "text": [
      "no data for 20200402\n",
      "no data for 20200403\n",
      "no data for 20200405\n",
      "no data for 20200406\n",
      "no data for 20200407\n",
      "no data for 20200408\n",
      "no data for 20200409\n",
      "no data for 20200411\n",
      "no data for 20200412\n",
      "no data for 20200413\n",
      "no data for 20200415\n",
      "no data for 20200416\n",
      "no data for 20200417\n",
      "no data for 20200419\n",
      "no data for 20200421\n",
      "no data for 20200422\n",
      "no data for 20200423\n",
      "no data for 20200424\n",
      "no data for 20200425\n",
      "no data for 20200426\n",
      "no data for 20200427\n",
      "no data for 20200428\n",
      "no data for 20200429\n",
      "no data for 20200430\n",
      "no data for 20200501\n",
      "no data for 20200502\n",
      "no data for 20200503\n",
      "no data for 20200504\n",
      "no data for 20200505\n",
      "no data for 20200507\n",
      "no data for 20200508\n",
      "no data for 20200509\n",
      "no data for 20200510\n",
      "no data for 20200511\n",
      "no data for 20200512\n",
      "no data for 20200513\n",
      "no data for 20200514\n",
      "no data for 20200515\n",
      "no data for 20200516\n",
      "no data for 20200517\n",
      "no data for 20200518\n",
      "no data for 20210114\n",
      "no data for 20210115\n"
     ]
    }
   ],
   "source": [
    "#Wir lesen die CSV´s ein da die Api nicht immer richtig arbeitet. Vll wird dieser Fehler noch behoben???\n",
    "#Außerdem werden die Zahlen manchmal rückwirkend geändert... wie weit ist die Frage, dann könnte man die Daten ablegen\n",
    "\n",
    "\n",
    "download_dates = pd.date_range(start='20200402', end=today).strftime('%Y%m%d')\n",
    "\n",
    "base_url = (\"https://www.lgl.bayern.de/gesundheit/infektionsschutz/infektionskrankheiten_a_z/coronavirus/karte_coronavirus/fallzahlen_archiv/\")\n",
    "\n",
    "list_of_url = [base_url+date+str('_LK_coronazahlen.csv') for date in download_dates]\n",
    "\n",
    "df = pd.DataFrame()\n",
    "\n",
    "for url, date in zip(list_of_url,download_dates):\n",
    "    try:\n",
    "        tempdf = pd.read_csv(url, encoding='latin-1',delimiter=';',decimal=',')\n",
    "        tempdf['Date'] = date\n",
    "        df = pd.concat([df, tempdf])\n",
    "    except:\n",
    "        print(str('no data for ')+date)"
   ]
  },
  {
   "cell_type": "code",
   "execution_count": 104,
   "metadata": {},
   "outputs": [],
   "source": [
    "dfnbg = df.loc[df['Regierungsbezirk Land-/Stadtkreis'] == 'SK Nürnberg']"
   ]
  },
  {
   "cell_type": "code",
   "execution_count": 105,
   "metadata": {},
   "outputs": [
    {
     "output_type": "execute_result",
     "data": {
      "text/plain": [
       "   Regierungsbezirk Land-/Stadtkreis  Anzahl Fälle  Änderung zum Vortag Fälle  \\\n",
       "87                       SK Nürnberg           372                         14   \n",
       "87                       SK Nürnberg           630                         52   \n",
       "87                       SK Nürnberg           699                          8   \n",
       "87                       SK Nürnberg           782                         11   \n",
       "87                       SK Nürnberg           825                         10   \n",
       "..                               ...           ...                        ...   \n",
       "87                       SK Nürnberg         24065                         51   \n",
       "87                       SK Nürnberg         24144                         79   \n",
       "87                       SK Nürnberg         24213                         69   \n",
       "87                       SK Nürnberg         24252                         39   \n",
       "87                       SK Nürnberg         24298                         46   \n",
       "\n",
       "    Anzahl Todesfälle  Änderung zum Vortag Todesfälle  Population  \\\n",
       "87                  5                               0      518365   \n",
       "87                  5                               0      518365   \n",
       "87                 10                               0      518365   \n",
       "87                 15                               0      518365   \n",
       "87                 16                               0      518365   \n",
       "..                ...                             ...         ...   \n",
       "87                800                               3      518370   \n",
       "87                800                               0      518370   \n",
       "87                801                               1      518370   \n",
       "87                801                               0      518370   \n",
       "87                801                               0      518370   \n",
       "\n",
       "    Fälle/100.000 kumulativ  Fälle der letzten 7 Tage  7-Tages-Inzidenz  \\\n",
       "87                    71.76                       176             33.95   \n",
       "87                   121.54                       270             52.09   \n",
       "87                   134.85                       200             38.58   \n",
       "87                   150.86                       129             24.89   \n",
       "87                   159.15                       133             25.66   \n",
       "..                      ...                       ...               ...   \n",
       "87                  4642.44                       488             94.14   \n",
       "87                  4657.68                       427             82.37   \n",
       "87                  4670.99                       474             91.44   \n",
       "87                  4678.51                       488             94.14   \n",
       "87                  4687.39                       454             87.58   \n",
       "\n",
       "        Date  \n",
       "87  20200404  \n",
       "87  20200410  \n",
       "87  20200414  \n",
       "87  20200418  \n",
       "87  20200420  \n",
       "..       ...  \n",
       "87  20210306  \n",
       "87  20210307  \n",
       "87  20210308  \n",
       "87  20210309  \n",
       "87  20210310  \n",
       "\n",
       "[300 rows x 10 columns]"
      ],
      "text/html": "<div>\n<style scoped>\n    .dataframe tbody tr th:only-of-type {\n        vertical-align: middle;\n    }\n\n    .dataframe tbody tr th {\n        vertical-align: top;\n    }\n\n    .dataframe thead th {\n        text-align: right;\n    }\n</style>\n<table border=\"1\" class=\"dataframe\">\n  <thead>\n    <tr style=\"text-align: right;\">\n      <th></th>\n      <th>Regierungsbezirk Land-/Stadtkreis</th>\n      <th>Anzahl Fälle</th>\n      <th>Änderung zum Vortag Fälle</th>\n      <th>Anzahl Todesfälle</th>\n      <th>Änderung zum Vortag Todesfälle</th>\n      <th>Population</th>\n      <th>Fälle/100.000 kumulativ</th>\n      <th>Fälle der letzten 7 Tage</th>\n      <th>7-Tages-Inzidenz</th>\n      <th>Date</th>\n    </tr>\n  </thead>\n  <tbody>\n    <tr>\n      <th>87</th>\n      <td>SK Nürnberg</td>\n      <td>372</td>\n      <td>14</td>\n      <td>5</td>\n      <td>0</td>\n      <td>518365</td>\n      <td>71.76</td>\n      <td>176</td>\n      <td>33.95</td>\n      <td>20200404</td>\n    </tr>\n    <tr>\n      <th>87</th>\n      <td>SK Nürnberg</td>\n      <td>630</td>\n      <td>52</td>\n      <td>5</td>\n      <td>0</td>\n      <td>518365</td>\n      <td>121.54</td>\n      <td>270</td>\n      <td>52.09</td>\n      <td>20200410</td>\n    </tr>\n    <tr>\n      <th>87</th>\n      <td>SK Nürnberg</td>\n      <td>699</td>\n      <td>8</td>\n      <td>10</td>\n      <td>0</td>\n      <td>518365</td>\n      <td>134.85</td>\n      <td>200</td>\n      <td>38.58</td>\n      <td>20200414</td>\n    </tr>\n    <tr>\n      <th>87</th>\n      <td>SK Nürnberg</td>\n      <td>782</td>\n      <td>11</td>\n      <td>15</td>\n      <td>0</td>\n      <td>518365</td>\n      <td>150.86</td>\n      <td>129</td>\n      <td>24.89</td>\n      <td>20200418</td>\n    </tr>\n    <tr>\n      <th>87</th>\n      <td>SK Nürnberg</td>\n      <td>825</td>\n      <td>10</td>\n      <td>16</td>\n      <td>0</td>\n      <td>518365</td>\n      <td>159.15</td>\n      <td>133</td>\n      <td>25.66</td>\n      <td>20200420</td>\n    </tr>\n    <tr>\n      <th>...</th>\n      <td>...</td>\n      <td>...</td>\n      <td>...</td>\n      <td>...</td>\n      <td>...</td>\n      <td>...</td>\n      <td>...</td>\n      <td>...</td>\n      <td>...</td>\n      <td>...</td>\n    </tr>\n    <tr>\n      <th>87</th>\n      <td>SK Nürnberg</td>\n      <td>24065</td>\n      <td>51</td>\n      <td>800</td>\n      <td>3</td>\n      <td>518370</td>\n      <td>4642.44</td>\n      <td>488</td>\n      <td>94.14</td>\n      <td>20210306</td>\n    </tr>\n    <tr>\n      <th>87</th>\n      <td>SK Nürnberg</td>\n      <td>24144</td>\n      <td>79</td>\n      <td>800</td>\n      <td>0</td>\n      <td>518370</td>\n      <td>4657.68</td>\n      <td>427</td>\n      <td>82.37</td>\n      <td>20210307</td>\n    </tr>\n    <tr>\n      <th>87</th>\n      <td>SK Nürnberg</td>\n      <td>24213</td>\n      <td>69</td>\n      <td>801</td>\n      <td>1</td>\n      <td>518370</td>\n      <td>4670.99</td>\n      <td>474</td>\n      <td>91.44</td>\n      <td>20210308</td>\n    </tr>\n    <tr>\n      <th>87</th>\n      <td>SK Nürnberg</td>\n      <td>24252</td>\n      <td>39</td>\n      <td>801</td>\n      <td>0</td>\n      <td>518370</td>\n      <td>4678.51</td>\n      <td>488</td>\n      <td>94.14</td>\n      <td>20210309</td>\n    </tr>\n    <tr>\n      <th>87</th>\n      <td>SK Nürnberg</td>\n      <td>24298</td>\n      <td>46</td>\n      <td>801</td>\n      <td>0</td>\n      <td>518370</td>\n      <td>4687.39</td>\n      <td>454</td>\n      <td>87.58</td>\n      <td>20210310</td>\n    </tr>\n  </tbody>\n</table>\n<p>300 rows × 10 columns</p>\n</div>"
     },
     "metadata": {},
     "execution_count": 105
    }
   ],
   "source": [
    "dfnbg.sort_values(by=['Date'])"
   ]
  },
  {
   "cell_type": "code",
   "execution_count": 106,
   "metadata": {},
   "outputs": [
    {
     "output_type": "execute_result",
     "data": {
      "text/plain": [
       "   Regierungsbezirk Land-/Stadtkreis  Anzahl Fälle  Änderung zum Vortag Fälle  \\\n",
       "87                       SK Nürnberg           372                         14   \n",
       "87                       SK Nürnberg           630                         52   \n",
       "87                       SK Nürnberg           699                          8   \n",
       "87                       SK Nürnberg           782                         11   \n",
       "87                       SK Nürnberg           825                         10   \n",
       "..                               ...           ...                        ...   \n",
       "87                       SK Nürnberg         24065                         51   \n",
       "87                       SK Nürnberg         24144                         79   \n",
       "87                       SK Nürnberg         24213                         69   \n",
       "87                       SK Nürnberg         24252                         39   \n",
       "87                       SK Nürnberg         24298                         46   \n",
       "\n",
       "    Anzahl Todesfälle  Änderung zum Vortag Todesfälle  Population  \\\n",
       "87                  5                               0      518365   \n",
       "87                  5                               0      518365   \n",
       "87                 10                               0      518365   \n",
       "87                 15                               0      518365   \n",
       "87                 16                               0      518365   \n",
       "..                ...                             ...         ...   \n",
       "87                800                               3      518370   \n",
       "87                800                               0      518370   \n",
       "87                801                               1      518370   \n",
       "87                801                               0      518370   \n",
       "87                801                               0      518370   \n",
       "\n",
       "    Fälle/100.000 kumulativ  Fälle der letzten 7 Tage  7-Tages-Inzidenz  \\\n",
       "87                    71.76                       176             33.95   \n",
       "87                   121.54                       270             52.09   \n",
       "87                   134.85                       200             38.58   \n",
       "87                   150.86                       129             24.89   \n",
       "87                   159.15                       133             25.66   \n",
       "..                      ...                       ...               ...   \n",
       "87                  4642.44                       488             94.14   \n",
       "87                  4657.68                       427             82.37   \n",
       "87                  4670.99                       474             91.44   \n",
       "87                  4678.51                       488             94.14   \n",
       "87                  4687.39                       454             87.58   \n",
       "\n",
       "        Date  \n",
       "87  20200404  \n",
       "87  20200410  \n",
       "87  20200414  \n",
       "87  20200418  \n",
       "87  20200420  \n",
       "..       ...  \n",
       "87  20210306  \n",
       "87  20210307  \n",
       "87  20210308  \n",
       "87  20210309  \n",
       "87  20210310  \n",
       "\n",
       "[300 rows x 10 columns]"
      ],
      "text/html": "<div>\n<style scoped>\n    .dataframe tbody tr th:only-of-type {\n        vertical-align: middle;\n    }\n\n    .dataframe tbody tr th {\n        vertical-align: top;\n    }\n\n    .dataframe thead th {\n        text-align: right;\n    }\n</style>\n<table border=\"1\" class=\"dataframe\">\n  <thead>\n    <tr style=\"text-align: right;\">\n      <th></th>\n      <th>Regierungsbezirk Land-/Stadtkreis</th>\n      <th>Anzahl Fälle</th>\n      <th>Änderung zum Vortag Fälle</th>\n      <th>Anzahl Todesfälle</th>\n      <th>Änderung zum Vortag Todesfälle</th>\n      <th>Population</th>\n      <th>Fälle/100.000 kumulativ</th>\n      <th>Fälle der letzten 7 Tage</th>\n      <th>7-Tages-Inzidenz</th>\n      <th>Date</th>\n    </tr>\n  </thead>\n  <tbody>\n    <tr>\n      <th>87</th>\n      <td>SK Nürnberg</td>\n      <td>372</td>\n      <td>14</td>\n      <td>5</td>\n      <td>0</td>\n      <td>518365</td>\n      <td>71.76</td>\n      <td>176</td>\n      <td>33.95</td>\n      <td>20200404</td>\n    </tr>\n    <tr>\n      <th>87</th>\n      <td>SK Nürnberg</td>\n      <td>630</td>\n      <td>52</td>\n      <td>5</td>\n      <td>0</td>\n      <td>518365</td>\n      <td>121.54</td>\n      <td>270</td>\n      <td>52.09</td>\n      <td>20200410</td>\n    </tr>\n    <tr>\n      <th>87</th>\n      <td>SK Nürnberg</td>\n      <td>699</td>\n      <td>8</td>\n      <td>10</td>\n      <td>0</td>\n      <td>518365</td>\n      <td>134.85</td>\n      <td>200</td>\n      <td>38.58</td>\n      <td>20200414</td>\n    </tr>\n    <tr>\n      <th>87</th>\n      <td>SK Nürnberg</td>\n      <td>782</td>\n      <td>11</td>\n      <td>15</td>\n      <td>0</td>\n      <td>518365</td>\n      <td>150.86</td>\n      <td>129</td>\n      <td>24.89</td>\n      <td>20200418</td>\n    </tr>\n    <tr>\n      <th>87</th>\n      <td>SK Nürnberg</td>\n      <td>825</td>\n      <td>10</td>\n      <td>16</td>\n      <td>0</td>\n      <td>518365</td>\n      <td>159.15</td>\n      <td>133</td>\n      <td>25.66</td>\n      <td>20200420</td>\n    </tr>\n    <tr>\n      <th>...</th>\n      <td>...</td>\n      <td>...</td>\n      <td>...</td>\n      <td>...</td>\n      <td>...</td>\n      <td>...</td>\n      <td>...</td>\n      <td>...</td>\n      <td>...</td>\n      <td>...</td>\n    </tr>\n    <tr>\n      <th>87</th>\n      <td>SK Nürnberg</td>\n      <td>24065</td>\n      <td>51</td>\n      <td>800</td>\n      <td>3</td>\n      <td>518370</td>\n      <td>4642.44</td>\n      <td>488</td>\n      <td>94.14</td>\n      <td>20210306</td>\n    </tr>\n    <tr>\n      <th>87</th>\n      <td>SK Nürnberg</td>\n      <td>24144</td>\n      <td>79</td>\n      <td>800</td>\n      <td>0</td>\n      <td>518370</td>\n      <td>4657.68</td>\n      <td>427</td>\n      <td>82.37</td>\n      <td>20210307</td>\n    </tr>\n    <tr>\n      <th>87</th>\n      <td>SK Nürnberg</td>\n      <td>24213</td>\n      <td>69</td>\n      <td>801</td>\n      <td>1</td>\n      <td>518370</td>\n      <td>4670.99</td>\n      <td>474</td>\n      <td>91.44</td>\n      <td>20210308</td>\n    </tr>\n    <tr>\n      <th>87</th>\n      <td>SK Nürnberg</td>\n      <td>24252</td>\n      <td>39</td>\n      <td>801</td>\n      <td>0</td>\n      <td>518370</td>\n      <td>4678.51</td>\n      <td>488</td>\n      <td>94.14</td>\n      <td>20210309</td>\n    </tr>\n    <tr>\n      <th>87</th>\n      <td>SK Nürnberg</td>\n      <td>24298</td>\n      <td>46</td>\n      <td>801</td>\n      <td>0</td>\n      <td>518370</td>\n      <td>4687.39</td>\n      <td>454</td>\n      <td>87.58</td>\n      <td>20210310</td>\n    </tr>\n  </tbody>\n</table>\n<p>300 rows × 10 columns</p>\n</div>"
     },
     "metadata": {},
     "execution_count": 106
    }
   ],
   "source": [
    "dfnbg"
   ]
  },
  {
   "cell_type": "code",
   "execution_count": 107,
   "metadata": {},
   "outputs": [],
   "source": [
    "dfnbg = dfnbg[['Date','7-Tages-Inzidenz']]"
   ]
  },
  {
   "cell_type": "code",
   "execution_count": 108,
   "metadata": {},
   "outputs": [
    {
     "output_type": "execute_result",
     "data": {
      "text/plain": [
       "Date                 object\n",
       "7-Tages-Inzidenz    float64\n",
       "dtype: object"
      ]
     },
     "metadata": {},
     "execution_count": 108
    }
   ],
   "source": [
    "dfnbg.dtypes"
   ]
  },
  {
   "cell_type": "code",
   "execution_count": 110,
   "metadata": {},
   "outputs": [
    {
     "output_type": "stream",
     "name": "stderr",
     "text": [
      "C:\\Anaconda\\lib\\site-packages\\pandas\\core\\indexing.py:1676: SettingWithCopyWarning: \nA value is trying to be set on a copy of a slice from a DataFrame.\nTry using .loc[row_indexer,col_indexer] = value instead\n\nSee the caveats in the documentation: https://pandas.pydata.org/pandas-docs/stable/user_guide/indexing.html#returning-a-view-versus-a-copy\n  self._setitem_single_column(ilocs[0], value, pi)\n"
     ]
    }
   ],
   "source": [
    "dfnbg.loc[:,'Date'] = pd.to_datetime(dfnbg['Date'], format='%Y%m%d')"
   ]
  },
  {
   "cell_type": "code",
   "execution_count": 111,
   "metadata": {},
   "outputs": [
    {
     "output_type": "execute_result",
     "data": {
      "text/plain": [
       "87   2020-04-04\n",
       "87   2020-04-10\n",
       "87   2020-04-14\n",
       "87   2020-04-18\n",
       "87   2020-04-20\n",
       "Name: Date, dtype: datetime64[ns]"
      ]
     },
     "metadata": {},
     "execution_count": 111
    }
   ],
   "source": [
    "dfnbg.Date.head()"
   ]
  },
  {
   "cell_type": "code",
   "execution_count": 112,
   "metadata": {},
   "outputs": [
    {
     "output_type": "execute_result",
     "data": {
      "text/plain": [
       "Date                datetime64[ns]\n",
       "7-Tages-Inzidenz           float64\n",
       "dtype: object"
      ]
     },
     "metadata": {},
     "execution_count": 112
    }
   ],
   "source": [
    "dfnbg.dtypes"
   ]
  },
  {
   "cell_type": "code",
   "execution_count": 113,
   "metadata": {},
   "outputs": [
    {
     "output_type": "execute_result",
     "data": {
      "text/plain": [
       "<AxesSubplot:xlabel='Date'>"
      ]
     },
     "metadata": {},
     "execution_count": 113
    },
    {
     "output_type": "display_data",
     "data": {
      "text/plain": "<Figure size 432x288 with 1 Axes>",
      "image/svg+xml": "<?xml version=\"1.0\" encoding=\"utf-8\" standalone=\"no\"?>\r\n<!DOCTYPE svg PUBLIC \"-//W3C//DTD SVG 1.1//EN\"\r\n  \"http://www.w3.org/Graphics/SVG/1.1/DTD/svg11.dtd\">\r\n<!-- Created with matplotlib (https://matplotlib.org/) -->\r\n<svg height=\"260.191033pt\" version=\"1.1\" viewBox=\"0 0 375.2875 260.191033\" width=\"375.2875pt\" xmlns=\"http://www.w3.org/2000/svg\" xmlns:xlink=\"http://www.w3.org/1999/xlink\">\r\n <metadata>\r\n  <rdf:RDF xmlns:cc=\"http://creativecommons.org/ns#\" xmlns:dc=\"http://purl.org/dc/elements/1.1/\" xmlns:rdf=\"http://www.w3.org/1999/02/22-rdf-syntax-ns#\">\r\n   <cc:Work>\r\n    <dc:type rdf:resource=\"http://purl.org/dc/dcmitype/StillImage\"/>\r\n    <dc:date>2021-03-10T21:16:50.724779</dc:date>\r\n    <dc:format>image/svg+xml</dc:format>\r\n    <dc:creator>\r\n     <cc:Agent>\r\n      <dc:title>Matplotlib v3.3.4, https://matplotlib.org/</dc:title>\r\n     </cc:Agent>\r\n    </dc:creator>\r\n   </cc:Work>\r\n  </rdf:RDF>\r\n </metadata>\r\n <defs>\r\n  <style type=\"text/css\">*{stroke-linecap:butt;stroke-linejoin:round;}</style>\r\n </defs>\r\n <g id=\"figure_1\">\r\n  <g id=\"patch_1\">\r\n   <path d=\"M 0 260.191033 \r\nL 375.2875 260.191033 \r\nL 375.2875 0 \r\nL 0 0 \r\nz\r\n\" style=\"fill:none;\"/>\r\n  </g>\r\n  <g id=\"axes_1\">\r\n   <g id=\"patch_2\">\r\n    <path d=\"M 33.2875 203.04 \r\nL 368.0875 203.04 \r\nL 368.0875 7.2 \r\nL 33.2875 7.2 \r\nz\r\n\" style=\"fill:#ffffff;\"/>\r\n   </g>\r\n   <g id=\"matplotlib.axis_1\">\r\n    <g id=\"xtick_1\">\r\n     <g id=\"line2d_1\">\r\n      <defs>\r\n       <path d=\"M 0 0 \r\nL 0 3.5 \r\n\" id=\"mf4085bd8b0\" style=\"stroke:#000000;stroke-width:0.8;\"/>\r\n      </defs>\r\n      <g>\r\n       <use style=\"stroke:#000000;stroke-width:0.8;\" x=\"72.675735\" xlink:href=\"#mf4085bd8b0\" y=\"203.04\"/>\r\n      </g>\r\n     </g>\r\n     <g id=\"text_1\">\r\n      <!-- 2020-05 -->\r\n      <g transform=\"translate(35.450914 237.511846)rotate(-30)scale(0.1 -0.1)\">\r\n       <defs>\r\n        <path d=\"M 19.1875 8.296875 \r\nL 53.609375 8.296875 \r\nL 53.609375 0 \r\nL 7.328125 0 \r\nL 7.328125 8.296875 \r\nQ 12.9375 14.109375 22.625 23.890625 \r\nQ 32.328125 33.6875 34.8125 36.53125 \r\nQ 39.546875 41.84375 41.421875 45.53125 \r\nQ 43.3125 49.21875 43.3125 52.78125 \r\nQ 43.3125 58.59375 39.234375 62.25 \r\nQ 35.15625 65.921875 28.609375 65.921875 \r\nQ 23.96875 65.921875 18.8125 64.3125 \r\nQ 13.671875 62.703125 7.8125 59.421875 \r\nL 7.8125 69.390625 \r\nQ 13.765625 71.78125 18.9375 73 \r\nQ 24.125 74.21875 28.421875 74.21875 \r\nQ 39.75 74.21875 46.484375 68.546875 \r\nQ 53.21875 62.890625 53.21875 53.421875 \r\nQ 53.21875 48.921875 51.53125 44.890625 \r\nQ 49.859375 40.875 45.40625 35.40625 \r\nQ 44.1875 33.984375 37.640625 27.21875 \r\nQ 31.109375 20.453125 19.1875 8.296875 \r\nz\r\n\" id=\"DejaVuSans-50\"/>\r\n        <path d=\"M 31.78125 66.40625 \r\nQ 24.171875 66.40625 20.328125 58.90625 \r\nQ 16.5 51.421875 16.5 36.375 \r\nQ 16.5 21.390625 20.328125 13.890625 \r\nQ 24.171875 6.390625 31.78125 6.390625 \r\nQ 39.453125 6.390625 43.28125 13.890625 \r\nQ 47.125 21.390625 47.125 36.375 \r\nQ 47.125 51.421875 43.28125 58.90625 \r\nQ 39.453125 66.40625 31.78125 66.40625 \r\nz\r\nM 31.78125 74.21875 \r\nQ 44.046875 74.21875 50.515625 64.515625 \r\nQ 56.984375 54.828125 56.984375 36.375 \r\nQ 56.984375 17.96875 50.515625 8.265625 \r\nQ 44.046875 -1.421875 31.78125 -1.421875 \r\nQ 19.53125 -1.421875 13.0625 8.265625 \r\nQ 6.59375 17.96875 6.59375 36.375 \r\nQ 6.59375 54.828125 13.0625 64.515625 \r\nQ 19.53125 74.21875 31.78125 74.21875 \r\nz\r\n\" id=\"DejaVuSans-48\"/>\r\n        <path d=\"M 4.890625 31.390625 \r\nL 31.203125 31.390625 \r\nL 31.203125 23.390625 \r\nL 4.890625 23.390625 \r\nz\r\n\" id=\"DejaVuSans-45\"/>\r\n        <path d=\"M 10.796875 72.90625 \r\nL 49.515625 72.90625 \r\nL 49.515625 64.59375 \r\nL 19.828125 64.59375 \r\nL 19.828125 46.734375 \r\nQ 21.96875 47.46875 24.109375 47.828125 \r\nQ 26.265625 48.1875 28.421875 48.1875 \r\nQ 40.625 48.1875 47.75 41.5 \r\nQ 54.890625 34.8125 54.890625 23.390625 \r\nQ 54.890625 11.625 47.5625 5.09375 \r\nQ 40.234375 -1.421875 26.90625 -1.421875 \r\nQ 22.3125 -1.421875 17.546875 -0.640625 \r\nQ 12.796875 0.140625 7.71875 1.703125 \r\nL 7.71875 11.625 \r\nQ 12.109375 9.234375 16.796875 8.0625 \r\nQ 21.484375 6.890625 26.703125 6.890625 \r\nQ 35.15625 6.890625 40.078125 11.328125 \r\nQ 45.015625 15.765625 45.015625 23.390625 \r\nQ 45.015625 31 40.078125 35.4375 \r\nQ 35.15625 39.890625 26.703125 39.890625 \r\nQ 22.75 39.890625 18.8125 39.015625 \r\nQ 14.890625 38.140625 10.796875 36.28125 \r\nz\r\n\" id=\"DejaVuSans-53\"/>\r\n       </defs>\r\n       <use xlink:href=\"#DejaVuSans-50\"/>\r\n       <use x=\"63.623047\" xlink:href=\"#DejaVuSans-48\"/>\r\n       <use x=\"127.246094\" xlink:href=\"#DejaVuSans-50\"/>\r\n       <use x=\"190.869141\" xlink:href=\"#DejaVuSans-48\"/>\r\n       <use x=\"254.492188\" xlink:href=\"#DejaVuSans-45\"/>\r\n       <use x=\"290.576172\" xlink:href=\"#DejaVuSans-48\"/>\r\n       <use x=\"354.199219\" xlink:href=\"#DejaVuSans-53\"/>\r\n      </g>\r\n     </g>\r\n    </g>\r\n    <g id=\"xtick_2\">\r\n     <g id=\"line2d_2\">\r\n      <g>\r\n       <use style=\"stroke:#000000;stroke-width:0.8;\" x=\"127.282152\" xlink:href=\"#mf4085bd8b0\" y=\"203.04\"/>\r\n      </g>\r\n     </g>\r\n     <g id=\"text_2\">\r\n      <!-- 2020-07 -->\r\n      <g transform=\"translate(90.057332 237.511846)rotate(-30)scale(0.1 -0.1)\">\r\n       <defs>\r\n        <path d=\"M 8.203125 72.90625 \r\nL 55.078125 72.90625 \r\nL 55.078125 68.703125 \r\nL 28.609375 0 \r\nL 18.3125 0 \r\nL 43.21875 64.59375 \r\nL 8.203125 64.59375 \r\nz\r\n\" id=\"DejaVuSans-55\"/>\r\n       </defs>\r\n       <use xlink:href=\"#DejaVuSans-50\"/>\r\n       <use x=\"63.623047\" xlink:href=\"#DejaVuSans-48\"/>\r\n       <use x=\"127.246094\" xlink:href=\"#DejaVuSans-50\"/>\r\n       <use x=\"190.869141\" xlink:href=\"#DejaVuSans-48\"/>\r\n       <use x=\"254.492188\" xlink:href=\"#DejaVuSans-45\"/>\r\n       <use x=\"290.576172\" xlink:href=\"#DejaVuSans-48\"/>\r\n       <use x=\"354.199219\" xlink:href=\"#DejaVuSans-55\"/>\r\n      </g>\r\n     </g>\r\n    </g>\r\n    <g id=\"xtick_3\">\r\n     <g id=\"line2d_3\">\r\n      <g>\r\n       <use style=\"stroke:#000000;stroke-width:0.8;\" x=\"182.783757\" xlink:href=\"#mf4085bd8b0\" y=\"203.04\"/>\r\n      </g>\r\n     </g>\r\n     <g id=\"text_3\">\r\n      <!-- 2020-09 -->\r\n      <g transform=\"translate(145.558936 237.511846)rotate(-30)scale(0.1 -0.1)\">\r\n       <defs>\r\n        <path d=\"M 10.984375 1.515625 \r\nL 10.984375 10.5 \r\nQ 14.703125 8.734375 18.5 7.8125 \r\nQ 22.3125 6.890625 25.984375 6.890625 \r\nQ 35.75 6.890625 40.890625 13.453125 \r\nQ 46.046875 20.015625 46.78125 33.40625 \r\nQ 43.953125 29.203125 39.59375 26.953125 \r\nQ 35.25 24.703125 29.984375 24.703125 \r\nQ 19.046875 24.703125 12.671875 31.3125 \r\nQ 6.296875 37.9375 6.296875 49.421875 \r\nQ 6.296875 60.640625 12.9375 67.421875 \r\nQ 19.578125 74.21875 30.609375 74.21875 \r\nQ 43.265625 74.21875 49.921875 64.515625 \r\nQ 56.59375 54.828125 56.59375 36.375 \r\nQ 56.59375 19.140625 48.40625 8.859375 \r\nQ 40.234375 -1.421875 26.421875 -1.421875 \r\nQ 22.703125 -1.421875 18.890625 -0.6875 \r\nQ 15.09375 0.046875 10.984375 1.515625 \r\nz\r\nM 30.609375 32.421875 \r\nQ 37.25 32.421875 41.125 36.953125 \r\nQ 45.015625 41.5 45.015625 49.421875 \r\nQ 45.015625 57.28125 41.125 61.84375 \r\nQ 37.25 66.40625 30.609375 66.40625 \r\nQ 23.96875 66.40625 20.09375 61.84375 \r\nQ 16.21875 57.28125 16.21875 49.421875 \r\nQ 16.21875 41.5 20.09375 36.953125 \r\nQ 23.96875 32.421875 30.609375 32.421875 \r\nz\r\n\" id=\"DejaVuSans-57\"/>\r\n       </defs>\r\n       <use xlink:href=\"#DejaVuSans-50\"/>\r\n       <use x=\"63.623047\" xlink:href=\"#DejaVuSans-48\"/>\r\n       <use x=\"127.246094\" xlink:href=\"#DejaVuSans-50\"/>\r\n       <use x=\"190.869141\" xlink:href=\"#DejaVuSans-48\"/>\r\n       <use x=\"254.492188\" xlink:href=\"#DejaVuSans-45\"/>\r\n       <use x=\"290.576172\" xlink:href=\"#DejaVuSans-48\"/>\r\n       <use x=\"354.199219\" xlink:href=\"#DejaVuSans-57\"/>\r\n      </g>\r\n     </g>\r\n    </g>\r\n    <g id=\"xtick_4\">\r\n     <g id=\"line2d_4\">\r\n      <g>\r\n       <use style=\"stroke:#000000;stroke-width:0.8;\" x=\"237.390174\" xlink:href=\"#mf4085bd8b0\" y=\"203.04\"/>\r\n      </g>\r\n     </g>\r\n     <g id=\"text_4\">\r\n      <!-- 2020-11 -->\r\n      <g transform=\"translate(200.165353 237.511846)rotate(-30)scale(0.1 -0.1)\">\r\n       <defs>\r\n        <path d=\"M 12.40625 8.296875 \r\nL 28.515625 8.296875 \r\nL 28.515625 63.921875 \r\nL 10.984375 60.40625 \r\nL 10.984375 69.390625 \r\nL 28.421875 72.90625 \r\nL 38.28125 72.90625 \r\nL 38.28125 8.296875 \r\nL 54.390625 8.296875 \r\nL 54.390625 0 \r\nL 12.40625 0 \r\nz\r\n\" id=\"DejaVuSans-49\"/>\r\n       </defs>\r\n       <use xlink:href=\"#DejaVuSans-50\"/>\r\n       <use x=\"63.623047\" xlink:href=\"#DejaVuSans-48\"/>\r\n       <use x=\"127.246094\" xlink:href=\"#DejaVuSans-50\"/>\r\n       <use x=\"190.869141\" xlink:href=\"#DejaVuSans-48\"/>\r\n       <use x=\"254.492188\" xlink:href=\"#DejaVuSans-45\"/>\r\n       <use x=\"290.576172\" xlink:href=\"#DejaVuSans-49\"/>\r\n       <use x=\"354.199219\" xlink:href=\"#DejaVuSans-49\"/>\r\n      </g>\r\n     </g>\r\n    </g>\r\n    <g id=\"xtick_5\">\r\n     <g id=\"line2d_5\">\r\n      <g>\r\n       <use style=\"stroke:#000000;stroke-width:0.8;\" x=\"291.996591\" xlink:href=\"#mf4085bd8b0\" y=\"203.04\"/>\r\n      </g>\r\n     </g>\r\n     <g id=\"text_5\">\r\n      <!-- 2021-01 -->\r\n      <g transform=\"translate(254.77177 237.511846)rotate(-30)scale(0.1 -0.1)\">\r\n       <use xlink:href=\"#DejaVuSans-50\"/>\r\n       <use x=\"63.623047\" xlink:href=\"#DejaVuSans-48\"/>\r\n       <use x=\"127.246094\" xlink:href=\"#DejaVuSans-50\"/>\r\n       <use x=\"190.869141\" xlink:href=\"#DejaVuSans-49\"/>\r\n       <use x=\"254.492188\" xlink:href=\"#DejaVuSans-45\"/>\r\n       <use x=\"290.576172\" xlink:href=\"#DejaVuSans-48\"/>\r\n       <use x=\"354.199219\" xlink:href=\"#DejaVuSans-49\"/>\r\n      </g>\r\n     </g>\r\n    </g>\r\n    <g id=\"xtick_6\">\r\n     <g id=\"line2d_6\">\r\n      <g>\r\n       <use style=\"stroke:#000000;stroke-width:0.8;\" x=\"344.812634\" xlink:href=\"#mf4085bd8b0\" y=\"203.04\"/>\r\n      </g>\r\n     </g>\r\n     <g id=\"text_6\">\r\n      <!-- 2021-03 -->\r\n      <g transform=\"translate(307.587813 237.511846)rotate(-30)scale(0.1 -0.1)\">\r\n       <defs>\r\n        <path d=\"M 40.578125 39.3125 \r\nQ 47.65625 37.796875 51.625 33 \r\nQ 55.609375 28.21875 55.609375 21.1875 \r\nQ 55.609375 10.40625 48.1875 4.484375 \r\nQ 40.765625 -1.421875 27.09375 -1.421875 \r\nQ 22.515625 -1.421875 17.65625 -0.515625 \r\nQ 12.796875 0.390625 7.625 2.203125 \r\nL 7.625 11.71875 \r\nQ 11.71875 9.328125 16.59375 8.109375 \r\nQ 21.484375 6.890625 26.8125 6.890625 \r\nQ 36.078125 6.890625 40.9375 10.546875 \r\nQ 45.796875 14.203125 45.796875 21.1875 \r\nQ 45.796875 27.640625 41.28125 31.265625 \r\nQ 36.765625 34.90625 28.71875 34.90625 \r\nL 20.21875 34.90625 \r\nL 20.21875 43.015625 \r\nL 29.109375 43.015625 \r\nQ 36.375 43.015625 40.234375 45.921875 \r\nQ 44.09375 48.828125 44.09375 54.296875 \r\nQ 44.09375 59.90625 40.109375 62.90625 \r\nQ 36.140625 65.921875 28.71875 65.921875 \r\nQ 24.65625 65.921875 20.015625 65.03125 \r\nQ 15.375 64.15625 9.8125 62.3125 \r\nL 9.8125 71.09375 \r\nQ 15.4375 72.65625 20.34375 73.4375 \r\nQ 25.25 74.21875 29.59375 74.21875 \r\nQ 40.828125 74.21875 47.359375 69.109375 \r\nQ 53.90625 64.015625 53.90625 55.328125 \r\nQ 53.90625 49.265625 50.4375 45.09375 \r\nQ 46.96875 40.921875 40.578125 39.3125 \r\nz\r\n\" id=\"DejaVuSans-51\"/>\r\n       </defs>\r\n       <use xlink:href=\"#DejaVuSans-50\"/>\r\n       <use x=\"63.623047\" xlink:href=\"#DejaVuSans-48\"/>\r\n       <use x=\"127.246094\" xlink:href=\"#DejaVuSans-50\"/>\r\n       <use x=\"190.869141\" xlink:href=\"#DejaVuSans-49\"/>\r\n       <use x=\"254.492188\" xlink:href=\"#DejaVuSans-45\"/>\r\n       <use x=\"290.576172\" xlink:href=\"#DejaVuSans-48\"/>\r\n       <use x=\"354.199219\" xlink:href=\"#DejaVuSans-51\"/>\r\n      </g>\r\n     </g>\r\n    </g>\r\n    <g id=\"text_7\">\r\n     <!-- Date -->\r\n     <g transform=\"translate(188.736719 250.911346)scale(0.1 -0.1)\">\r\n      <defs>\r\n       <path d=\"M 19.671875 64.796875 \r\nL 19.671875 8.109375 \r\nL 31.59375 8.109375 \r\nQ 46.6875 8.109375 53.6875 14.9375 \r\nQ 60.6875 21.78125 60.6875 36.53125 \r\nQ 60.6875 51.171875 53.6875 57.984375 \r\nQ 46.6875 64.796875 31.59375 64.796875 \r\nz\r\nM 9.8125 72.90625 \r\nL 30.078125 72.90625 \r\nQ 51.265625 72.90625 61.171875 64.09375 \r\nQ 71.09375 55.28125 71.09375 36.53125 \r\nQ 71.09375 17.671875 61.125 8.828125 \r\nQ 51.171875 0 30.078125 0 \r\nL 9.8125 0 \r\nz\r\n\" id=\"DejaVuSans-68\"/>\r\n       <path d=\"M 34.28125 27.484375 \r\nQ 23.390625 27.484375 19.1875 25 \r\nQ 14.984375 22.515625 14.984375 16.5 \r\nQ 14.984375 11.71875 18.140625 8.90625 \r\nQ 21.296875 6.109375 26.703125 6.109375 \r\nQ 34.1875 6.109375 38.703125 11.40625 \r\nQ 43.21875 16.703125 43.21875 25.484375 \r\nL 43.21875 27.484375 \r\nz\r\nM 52.203125 31.203125 \r\nL 52.203125 0 \r\nL 43.21875 0 \r\nL 43.21875 8.296875 \r\nQ 40.140625 3.328125 35.546875 0.953125 \r\nQ 30.953125 -1.421875 24.3125 -1.421875 \r\nQ 15.921875 -1.421875 10.953125 3.296875 \r\nQ 6 8.015625 6 15.921875 \r\nQ 6 25.140625 12.171875 29.828125 \r\nQ 18.359375 34.515625 30.609375 34.515625 \r\nL 43.21875 34.515625 \r\nL 43.21875 35.40625 \r\nQ 43.21875 41.609375 39.140625 45 \r\nQ 35.0625 48.390625 27.6875 48.390625 \r\nQ 23 48.390625 18.546875 47.265625 \r\nQ 14.109375 46.140625 10.015625 43.890625 \r\nL 10.015625 52.203125 \r\nQ 14.9375 54.109375 19.578125 55.046875 \r\nQ 24.21875 56 28.609375 56 \r\nQ 40.484375 56 46.34375 49.84375 \r\nQ 52.203125 43.703125 52.203125 31.203125 \r\nz\r\n\" id=\"DejaVuSans-97\"/>\r\n       <path d=\"M 18.3125 70.21875 \r\nL 18.3125 54.6875 \r\nL 36.8125 54.6875 \r\nL 36.8125 47.703125 \r\nL 18.3125 47.703125 \r\nL 18.3125 18.015625 \r\nQ 18.3125 11.328125 20.140625 9.421875 \r\nQ 21.96875 7.515625 27.59375 7.515625 \r\nL 36.8125 7.515625 \r\nL 36.8125 0 \r\nL 27.59375 0 \r\nQ 17.1875 0 13.234375 3.875 \r\nQ 9.28125 7.765625 9.28125 18.015625 \r\nL 9.28125 47.703125 \r\nL 2.6875 47.703125 \r\nL 2.6875 54.6875 \r\nL 9.28125 54.6875 \r\nL 9.28125 70.21875 \r\nz\r\n\" id=\"DejaVuSans-116\"/>\r\n       <path d=\"M 56.203125 29.59375 \r\nL 56.203125 25.203125 \r\nL 14.890625 25.203125 \r\nQ 15.484375 15.921875 20.484375 11.0625 \r\nQ 25.484375 6.203125 34.421875 6.203125 \r\nQ 39.59375 6.203125 44.453125 7.46875 \r\nQ 49.3125 8.734375 54.109375 11.28125 \r\nL 54.109375 2.78125 \r\nQ 49.265625 0.734375 44.1875 -0.34375 \r\nQ 39.109375 -1.421875 33.890625 -1.421875 \r\nQ 20.796875 -1.421875 13.15625 6.1875 \r\nQ 5.515625 13.8125 5.515625 26.8125 \r\nQ 5.515625 40.234375 12.765625 48.109375 \r\nQ 20.015625 56 32.328125 56 \r\nQ 43.359375 56 49.78125 48.890625 \r\nQ 56.203125 41.796875 56.203125 29.59375 \r\nz\r\nM 47.21875 32.234375 \r\nQ 47.125 39.59375 43.09375 43.984375 \r\nQ 39.0625 48.390625 32.421875 48.390625 \r\nQ 24.90625 48.390625 20.390625 44.140625 \r\nQ 15.875 39.890625 15.1875 32.171875 \r\nz\r\n\" id=\"DejaVuSans-101\"/>\r\n      </defs>\r\n      <use xlink:href=\"#DejaVuSans-68\"/>\r\n      <use x=\"77.001953\" xlink:href=\"#DejaVuSans-97\"/>\r\n      <use x=\"138.28125\" xlink:href=\"#DejaVuSans-116\"/>\r\n      <use x=\"177.490234\" xlink:href=\"#DejaVuSans-101\"/>\r\n     </g>\r\n    </g>\r\n   </g>\r\n   <g id=\"matplotlib.axis_2\">\r\n    <g id=\"ytick_1\">\r\n     <g id=\"line2d_7\">\r\n      <defs>\r\n       <path d=\"M 0 0 \r\nL -3.5 0 \r\n\" id=\"m90040ec909\" style=\"stroke:#000000;stroke-width:0.8;\"/>\r\n      </defs>\r\n      <g>\r\n       <use style=\"stroke:#000000;stroke-width:0.8;\" x=\"33.2875\" xlink:href=\"#m90040ec909\" y=\"194.399801\"/>\r\n      </g>\r\n     </g>\r\n     <g id=\"text_8\">\r\n      <!-- 0 -->\r\n      <g transform=\"translate(19.925 198.19902)scale(0.1 -0.1)\">\r\n       <use xlink:href=\"#DejaVuSans-48\"/>\r\n      </g>\r\n     </g>\r\n    </g>\r\n    <g id=\"ytick_2\">\r\n     <g id=\"line2d_8\">\r\n      <g>\r\n       <use style=\"stroke:#000000;stroke-width:0.8;\" x=\"33.2875\" xlink:href=\"#m90040ec909\" y=\"171.846423\"/>\r\n      </g>\r\n     </g>\r\n     <g id=\"text_9\">\r\n      <!-- 50 -->\r\n      <g transform=\"translate(13.5625 175.645642)scale(0.1 -0.1)\">\r\n       <use xlink:href=\"#DejaVuSans-53\"/>\r\n       <use x=\"63.623047\" xlink:href=\"#DejaVuSans-48\"/>\r\n      </g>\r\n     </g>\r\n    </g>\r\n    <g id=\"ytick_3\">\r\n     <g id=\"line2d_9\">\r\n      <g>\r\n       <use style=\"stroke:#000000;stroke-width:0.8;\" x=\"33.2875\" xlink:href=\"#m90040ec909\" y=\"149.293046\"/>\r\n      </g>\r\n     </g>\r\n     <g id=\"text_10\">\r\n      <!-- 100 -->\r\n      <g transform=\"translate(7.2 153.092264)scale(0.1 -0.1)\">\r\n       <use xlink:href=\"#DejaVuSans-49\"/>\r\n       <use x=\"63.623047\" xlink:href=\"#DejaVuSans-48\"/>\r\n       <use x=\"127.246094\" xlink:href=\"#DejaVuSans-48\"/>\r\n      </g>\r\n     </g>\r\n    </g>\r\n    <g id=\"ytick_4\">\r\n     <g id=\"line2d_10\">\r\n      <g>\r\n       <use style=\"stroke:#000000;stroke-width:0.8;\" x=\"33.2875\" xlink:href=\"#m90040ec909\" y=\"126.739668\"/>\r\n      </g>\r\n     </g>\r\n     <g id=\"text_11\">\r\n      <!-- 150 -->\r\n      <g transform=\"translate(7.2 130.538887)scale(0.1 -0.1)\">\r\n       <use xlink:href=\"#DejaVuSans-49\"/>\r\n       <use x=\"63.623047\" xlink:href=\"#DejaVuSans-53\"/>\r\n       <use x=\"127.246094\" xlink:href=\"#DejaVuSans-48\"/>\r\n      </g>\r\n     </g>\r\n    </g>\r\n    <g id=\"ytick_5\">\r\n     <g id=\"line2d_11\">\r\n      <g>\r\n       <use style=\"stroke:#000000;stroke-width:0.8;\" x=\"33.2875\" xlink:href=\"#m90040ec909\" y=\"104.18629\"/>\r\n      </g>\r\n     </g>\r\n     <g id=\"text_12\">\r\n      <!-- 200 -->\r\n      <g transform=\"translate(7.2 107.985509)scale(0.1 -0.1)\">\r\n       <use xlink:href=\"#DejaVuSans-50\"/>\r\n       <use x=\"63.623047\" xlink:href=\"#DejaVuSans-48\"/>\r\n       <use x=\"127.246094\" xlink:href=\"#DejaVuSans-48\"/>\r\n      </g>\r\n     </g>\r\n    </g>\r\n    <g id=\"ytick_6\">\r\n     <g id=\"line2d_12\">\r\n      <g>\r\n       <use style=\"stroke:#000000;stroke-width:0.8;\" x=\"33.2875\" xlink:href=\"#m90040ec909\" y=\"81.632912\"/>\r\n      </g>\r\n     </g>\r\n     <g id=\"text_13\">\r\n      <!-- 250 -->\r\n      <g transform=\"translate(7.2 85.432131)scale(0.1 -0.1)\">\r\n       <use xlink:href=\"#DejaVuSans-50\"/>\r\n       <use x=\"63.623047\" xlink:href=\"#DejaVuSans-53\"/>\r\n       <use x=\"127.246094\" xlink:href=\"#DejaVuSans-48\"/>\r\n      </g>\r\n     </g>\r\n    </g>\r\n    <g id=\"ytick_7\">\r\n     <g id=\"line2d_13\">\r\n      <g>\r\n       <use style=\"stroke:#000000;stroke-width:0.8;\" x=\"33.2875\" xlink:href=\"#m90040ec909\" y=\"59.079535\"/>\r\n      </g>\r\n     </g>\r\n     <g id=\"text_14\">\r\n      <!-- 300 -->\r\n      <g transform=\"translate(7.2 62.878753)scale(0.1 -0.1)\">\r\n       <use xlink:href=\"#DejaVuSans-51\"/>\r\n       <use x=\"63.623047\" xlink:href=\"#DejaVuSans-48\"/>\r\n       <use x=\"127.246094\" xlink:href=\"#DejaVuSans-48\"/>\r\n      </g>\r\n     </g>\r\n    </g>\r\n    <g id=\"ytick_8\">\r\n     <g id=\"line2d_14\">\r\n      <g>\r\n       <use style=\"stroke:#000000;stroke-width:0.8;\" x=\"33.2875\" xlink:href=\"#m90040ec909\" y=\"36.526157\"/>\r\n      </g>\r\n     </g>\r\n     <g id=\"text_15\">\r\n      <!-- 350 -->\r\n      <g transform=\"translate(7.2 40.325376)scale(0.1 -0.1)\">\r\n       <use xlink:href=\"#DejaVuSans-51\"/>\r\n       <use x=\"63.623047\" xlink:href=\"#DejaVuSans-53\"/>\r\n       <use x=\"127.246094\" xlink:href=\"#DejaVuSans-48\"/>\r\n      </g>\r\n     </g>\r\n    </g>\r\n    <g id=\"ytick_9\">\r\n     <g id=\"line2d_15\">\r\n      <g>\r\n       <use style=\"stroke:#000000;stroke-width:0.8;\" x=\"33.2875\" xlink:href=\"#m90040ec909\" y=\"13.972779\"/>\r\n      </g>\r\n     </g>\r\n     <g id=\"text_16\">\r\n      <!-- 400 -->\r\n      <g transform=\"translate(7.2 17.771998)scale(0.1 -0.1)\">\r\n       <defs>\r\n        <path d=\"M 37.796875 64.3125 \r\nL 12.890625 25.390625 \r\nL 37.796875 25.390625 \r\nz\r\nM 35.203125 72.90625 \r\nL 47.609375 72.90625 \r\nL 47.609375 25.390625 \r\nL 58.015625 25.390625 \r\nL 58.015625 17.1875 \r\nL 47.609375 17.1875 \r\nL 47.609375 0 \r\nL 37.796875 0 \r\nL 37.796875 17.1875 \r\nL 4.890625 17.1875 \r\nL 4.890625 26.703125 \r\nz\r\n\" id=\"DejaVuSans-52\"/>\r\n       </defs>\r\n       <use xlink:href=\"#DejaVuSans-52\"/>\r\n       <use x=\"63.623047\" xlink:href=\"#DejaVuSans-48\"/>\r\n       <use x=\"127.246094\" xlink:href=\"#DejaVuSans-48\"/>\r\n      </g>\r\n     </g>\r\n    </g>\r\n   </g>\r\n   <g id=\"line2d_16\">\r\n    <path clip-path=\"url(#pbf7acea4f3)\" d=\"M 48.505682 179.086058 \r\nL 53.876805 170.903692 \r\nL 61.038302 183.17273 \r\nL 62.828676 182.825408 \r\nL 77.151671 189.789891 \r\nL 88.789104 192.135442 \r\nL 89.684291 192.487275 \r\nL 93.26504 192.920299 \r\nL 94.160227 193.096216 \r\nL 95.055414 193.006002 \r\nL 98.636163 193.443538 \r\nL 100.426537 193.79086 \r\nL 101.321725 194.138182 \r\nL 102.216912 193.705157 \r\nL 103.112099 193.614943 \r\nL 104.007286 193.705157 \r\nL 104.902473 193.357835 \r\nL 106.692848 193.357835 \r\nL 107.588035 192.920299 \r\nL 108.483222 193.357835 \r\nL 109.378409 193.529241 \r\nL 110.273596 193.529241 \r\nL 111.168783 193.267621 \r\nL 112.959158 193.267621 \r\nL 113.854345 192.744383 \r\nL 114.749532 192.65868 \r\nL 116.539906 192.225655 \r\nL 117.435094 192.397061 \r\nL 119.225468 192.397061 \r\nL 120.120655 192.920299 \r\nL 121.015842 192.834597 \r\nL 121.911029 193.096216 \r\nL 122.806217 193.181919 \r\nL 123.701404 193.529241 \r\nL 125.491778 193.529241 \r\nL 127.282152 193.876563 \r\nL 131.758088 193.876563 \r\nL 133.548463 193.267621 \r\nL 138.919586 192.744383 \r\nL 139.814773 192.920299 \r\nL 141.605147 192.572977 \r\nL 144.290709 192.572977 \r\nL 145.185896 192.834597 \r\nL 146.081083 192.572977 \r\nL 146.97627 192.65868 \r\nL 147.871457 192.572977 \r\nL 149.661832 192.65868 \r\nL 150.557019 192.65868 \r\nL 151.452206 192.397061 \r\nL 153.24258 192.487275 \r\nL 154.137767 192.049739 \r\nL 155.032955 191.78812 \r\nL 156.823329 191.78812 \r\nL 158.613703 192.311358 \r\nL 159.50889 192.225655 \r\nL 160.404078 192.920299 \r\nL 161.299265 193.181919 \r\nL 163.089639 193.181919 \r\nL 164.880013 192.65868 \r\nL 165.775201 191.78812 \r\nL 167.565575 191.440798 \r\nL 169.355949 191.440798 \r\nL 170.251136 189.438058 \r\nL 171.146324 187.872853 \r\nL 172.041511 186.830887 \r\nL 173.831885 183.957587 \r\nL 176.517447 183.871884 \r\nL 177.412634 184.390612 \r\nL 178.307821 185.17547 \r\nL 179.203008 184.390612 \r\nL 180.098195 185.17547 \r\nL 181.88857 185.17547 \r\nL 182.783757 185.522792 \r\nL 184.574131 185.698708 \r\nL 185.469318 186.91659 \r\nL 186.364505 186.654971 \r\nL 189.050067 186.569268 \r\nL 189.945254 180.827178 \r\nL 190.840441 178.3012 \r\nL 191.735628 177.083318 \r\nL 192.630816 177.868175 \r\nL 194.42119 177.868175 \r\nL 195.316377 175.518113 \r\nL 196.211564 180.736965 \r\nL 197.106751 183.434349 \r\nL 198.001939 183.262943 \r\nL 198.897126 182.563788 \r\nL 202.477874 182.563788 \r\nL 203.373061 182.302169 \r\nL 204.268249 182.302169 \r\nL 205.163436 182.825408 \r\nL 206.95381 182.825408 \r\nL 207.848997 184.91385 \r\nL 208.744184 186.393352 \r\nL 209.639372 186.91659 \r\nL 210.534559 186.91659 \r\nL 211.429746 187.787151 \r\nL 213.22012 187.787151 \r\nL 214.115307 185.261172 \r\nL 215.010495 183.957587 \r\nL 215.905682 182.392383 \r\nL 216.800869 181.1745 \r\nL 217.696056 178.039581 \r\nL 219.48643 178.039581 \r\nL 220.381618 177.868175 \r\nL 221.276805 176.212757 \r\nL 222.171992 175.080578 \r\nL 223.067179 172.55911 \r\nL 223.962366 174.471636 \r\nL 225.752741 174.471636 \r\nL 226.647928 169.338488 \r\nL 227.543115 168.643844 \r\nL 228.438302 163.858017 \r\nL 229.333489 162.292812 \r\nL 230.228676 160.114156 \r\nL 232.019051 160.114156 \r\nL 233.809425 140.970849 \r\nL 234.704612 149.762156 \r\nL 235.599799 138.968109 \r\nL 236.494987 135.143056 \r\nL 237.390174 126.090131 \r\nL 238.285361 126.090131 \r\nL 240.075735 115.562214 \r\nL 240.970922 112.603211 \r\nL 241.86611 122.874019 \r\nL 242.761297 106.25218 \r\nL 243.656484 112.779127 \r\nL 244.551671 112.779127 \r\nL 245.446858 117.303335 \r\nL 247.237233 101.989591 \r\nL 248.13242 84.149869 \r\nL 249.027607 79.364043 \r\nL 249.922794 73.969275 \r\nL 250.817981 73.969275 \r\nL 251.713168 71.186188 \r\nL 252.608356 85.453455 \r\nL 253.503543 88.502671 \r\nL 254.39873 94.068845 \r\nL 255.293917 83.626631 \r\nL 256.189104 79.711365 \r\nL 257.084291 79.711365 \r\nL 257.979479 85.191835 \r\nL 258.874666 76.490742 \r\nL 259.769853 69.269151 \r\nL 260.66504 69.354854 \r\nL 261.560227 73.621953 \r\nL 262.455414 55.782231 \r\nL 263.350602 55.782231 \r\nL 264.245789 49.778522 \r\nL 265.140976 29.764654 \r\nL 266.036163 26.282413 \r\nL 266.93135 16.101818 \r\nL 267.826537 22.890385 \r\nL 268.721725 36.205899 \r\nL 269.616912 36.205899 \r\nL 270.512099 38.903283 \r\nL 272.302473 54.564349 \r\nL 273.19766 64.744943 \r\nL 274.092848 60.568058 \r\nL 274.988035 52.561609 \r\nL 275.883222 52.561609 \r\nL 276.778409 43.080169 \r\nL 277.673596 41.424751 \r\nL 278.568783 29.940571 \r\nL 279.463971 26.372626 \r\nL 280.359158 25.154744 \r\nL 281.254345 18.627796 \r\nL 282.149532 18.627796 \r\nL 283.044719 21.5868 \r\nL 283.939906 61.614534 \r\nL 284.835094 31.06824 \r\nL 285.730281 50.040141 \r\nL 286.625468 56.652791 \r\nL 287.520655 60.044819 \r\nL 288.415842 49.954438 \r\nL 289.311029 48.474937 \r\nL 290.206217 59.959116 \r\nL 291.101404 63.874383 \r\nL 291.996591 56.738494 \r\nL 292.891778 63.265442 \r\nL 294.682152 55.782231 \r\nL 295.57734 65.615504 \r\nL 297.367714 100.595792 \r\nL 298.262901 90.848223 \r\nL 299.158088 101.552056 \r\nL 300.053275 120.262338 \r\nL 300.948463 136.185022 \r\nL 301.84365 128.35449 \r\nL 302.738837 133.140316 \r\nL 305.424398 94.416167 \r\nL 306.319586 89.111613 \r\nL 307.214773 85.282049 \r\nL 308.10996 87.717814 \r\nL 309.900334 106.946824 \r\nL 310.795521 114.082712 \r\nL 311.690709 124.962462 \r\nL 312.585896 125.918725 \r\nL 313.481083 128.963431 \r\nL 314.37627 125.21957 \r\nL 315.271457 125.21957 \r\nL 316.166644 131.660815 \r\nL 317.061832 135.661784 \r\nL 317.957019 136.793964 \r\nL 318.852206 141.84141 \r\nL 319.747393 146.018295 \r\nL 320.64258 134.96714 \r\nL 321.537767 145.062032 \r\nL 322.432955 151.498766 \r\nL 323.328142 154.19615 \r\nL 324.223329 157.416772 \r\nL 325.118516 158.463249 \r\nL 326.013703 152.283623 \r\nL 326.90889 152.545243 \r\nL 327.804078 152.369326 \r\nL 328.699265 154.457769 \r\nL 329.594452 154.024744 \r\nL 330.489639 155.418543 \r\nL 331.384826 160.984717 \r\nL 332.280013 159.07219 \r\nL 333.175201 156.807831 \r\nL 334.070388 160.984717 \r\nL 334.965575 156.722128 \r\nL 335.860762 154.286363 \r\nL 336.755949 157.940011 \r\nL 337.651136 152.545243 \r\nL 338.546324 148.629976 \r\nL 339.441511 149.762156 \r\nL 340.336698 148.282654 \r\nL 341.231885 150.718419 \r\nL 342.127072 151.413063 \r\nL 343.022259 153.3301 \r\nL 343.917447 152.545243 \r\nL 344.812634 150.109478 \r\nL 345.707821 150.4568 \r\nL 346.603008 153.763125 \r\nL 347.498195 153.763125 \r\nL 348.393382 151.413063 \r\nL 349.28857 151.936301 \r\nL 350.183757 157.245367 \r\nL 351.078944 153.154184 \r\nL 351.974131 151.936301 \r\nL 352.869318 154.895305 \r\nL 352.869318 154.895305 \r\n\" style=\"fill:none;stroke:#1f77b4;stroke-linecap:square;stroke-width:1.5;\"/>\r\n   </g>\r\n   <g id=\"patch_3\">\r\n    <path d=\"M 33.2875 203.04 \r\nL 33.2875 7.2 \r\n\" style=\"fill:none;stroke:#000000;stroke-linecap:square;stroke-linejoin:miter;stroke-width:0.8;\"/>\r\n   </g>\r\n   <g id=\"patch_4\">\r\n    <path d=\"M 368.0875 203.04 \r\nL 368.0875 7.2 \r\n\" style=\"fill:none;stroke:#000000;stroke-linecap:square;stroke-linejoin:miter;stroke-width:0.8;\"/>\r\n   </g>\r\n   <g id=\"patch_5\">\r\n    <path d=\"M 33.2875 203.04 \r\nL 368.0875 203.04 \r\n\" style=\"fill:none;stroke:#000000;stroke-linecap:square;stroke-linejoin:miter;stroke-width:0.8;\"/>\r\n   </g>\r\n   <g id=\"patch_6\">\r\n    <path d=\"M 33.2875 7.2 \r\nL 368.0875 7.2 \r\n\" style=\"fill:none;stroke:#000000;stroke-linecap:square;stroke-linejoin:miter;stroke-width:0.8;\"/>\r\n   </g>\r\n   <g id=\"legend_1\">\r\n    <g id=\"patch_7\">\r\n     <path d=\"M 40.2875 29.878125 \r\nL 154.651563 29.878125 \r\nQ 156.651563 29.878125 156.651563 27.878125 \r\nL 156.651563 14.2 \r\nQ 156.651563 12.2 154.651563 12.2 \r\nL 40.2875 12.2 \r\nQ 38.2875 12.2 38.2875 14.2 \r\nL 38.2875 27.878125 \r\nQ 38.2875 29.878125 40.2875 29.878125 \r\nz\r\n\" style=\"fill:#ffffff;opacity:0.8;stroke:#cccccc;stroke-linejoin:miter;\"/>\r\n    </g>\r\n    <g id=\"line2d_17\">\r\n     <path d=\"M 42.2875 20.298437 \r\nL 62.2875 20.298437 \r\n\" style=\"fill:none;stroke:#1f77b4;stroke-linecap:square;stroke-width:1.5;\"/>\r\n    </g>\r\n    <g id=\"line2d_18\"/>\r\n    <g id=\"text_17\">\r\n     <!-- 7-Tages-Inzidenz -->\r\n     <g transform=\"translate(70.2875 23.798437)scale(0.1 -0.1)\">\r\n      <defs>\r\n       <path d=\"M -0.296875 72.90625 \r\nL 61.375 72.90625 \r\nL 61.375 64.59375 \r\nL 35.5 64.59375 \r\nL 35.5 0 \r\nL 25.59375 0 \r\nL 25.59375 64.59375 \r\nL -0.296875 64.59375 \r\nz\r\n\" id=\"DejaVuSans-84\"/>\r\n       <path d=\"M 45.40625 27.984375 \r\nQ 45.40625 37.75 41.375 43.109375 \r\nQ 37.359375 48.484375 30.078125 48.484375 \r\nQ 22.859375 48.484375 18.828125 43.109375 \r\nQ 14.796875 37.75 14.796875 27.984375 \r\nQ 14.796875 18.265625 18.828125 12.890625 \r\nQ 22.859375 7.515625 30.078125 7.515625 \r\nQ 37.359375 7.515625 41.375 12.890625 \r\nQ 45.40625 18.265625 45.40625 27.984375 \r\nz\r\nM 54.390625 6.78125 \r\nQ 54.390625 -7.171875 48.1875 -13.984375 \r\nQ 42 -20.796875 29.203125 -20.796875 \r\nQ 24.46875 -20.796875 20.265625 -20.09375 \r\nQ 16.0625 -19.390625 12.109375 -17.921875 \r\nL 12.109375 -9.1875 \r\nQ 16.0625 -11.328125 19.921875 -12.34375 \r\nQ 23.78125 -13.375 27.78125 -13.375 \r\nQ 36.625 -13.375 41.015625 -8.765625 \r\nQ 45.40625 -4.15625 45.40625 5.171875 \r\nL 45.40625 9.625 \r\nQ 42.625 4.78125 38.28125 2.390625 \r\nQ 33.9375 0 27.875 0 \r\nQ 17.828125 0 11.671875 7.65625 \r\nQ 5.515625 15.328125 5.515625 27.984375 \r\nQ 5.515625 40.671875 11.671875 48.328125 \r\nQ 17.828125 56 27.875 56 \r\nQ 33.9375 56 38.28125 53.609375 \r\nQ 42.625 51.21875 45.40625 46.390625 \r\nL 45.40625 54.6875 \r\nL 54.390625 54.6875 \r\nz\r\n\" id=\"DejaVuSans-103\"/>\r\n       <path d=\"M 44.28125 53.078125 \r\nL 44.28125 44.578125 \r\nQ 40.484375 46.53125 36.375 47.5 \r\nQ 32.28125 48.484375 27.875 48.484375 \r\nQ 21.1875 48.484375 17.84375 46.4375 \r\nQ 14.5 44.390625 14.5 40.28125 \r\nQ 14.5 37.15625 16.890625 35.375 \r\nQ 19.28125 33.59375 26.515625 31.984375 \r\nL 29.59375 31.296875 \r\nQ 39.15625 29.25 43.1875 25.515625 \r\nQ 47.21875 21.78125 47.21875 15.09375 \r\nQ 47.21875 7.46875 41.1875 3.015625 \r\nQ 35.15625 -1.421875 24.609375 -1.421875 \r\nQ 20.21875 -1.421875 15.453125 -0.5625 \r\nQ 10.6875 0.296875 5.421875 2 \r\nL 5.421875 11.28125 \r\nQ 10.40625 8.6875 15.234375 7.390625 \r\nQ 20.0625 6.109375 24.8125 6.109375 \r\nQ 31.15625 6.109375 34.5625 8.28125 \r\nQ 37.984375 10.453125 37.984375 14.40625 \r\nQ 37.984375 18.0625 35.515625 20.015625 \r\nQ 33.0625 21.96875 24.703125 23.78125 \r\nL 21.578125 24.515625 \r\nQ 13.234375 26.265625 9.515625 29.90625 \r\nQ 5.8125 33.546875 5.8125 39.890625 \r\nQ 5.8125 47.609375 11.28125 51.796875 \r\nQ 16.75 56 26.8125 56 \r\nQ 31.78125 56 36.171875 55.265625 \r\nQ 40.578125 54.546875 44.28125 53.078125 \r\nz\r\n\" id=\"DejaVuSans-115\"/>\r\n       <path d=\"M 9.8125 72.90625 \r\nL 19.671875 72.90625 \r\nL 19.671875 0 \r\nL 9.8125 0 \r\nz\r\n\" id=\"DejaVuSans-73\"/>\r\n       <path d=\"M 54.890625 33.015625 \r\nL 54.890625 0 \r\nL 45.90625 0 \r\nL 45.90625 32.71875 \r\nQ 45.90625 40.484375 42.875 44.328125 \r\nQ 39.84375 48.1875 33.796875 48.1875 \r\nQ 26.515625 48.1875 22.3125 43.546875 \r\nQ 18.109375 38.921875 18.109375 30.90625 \r\nL 18.109375 0 \r\nL 9.078125 0 \r\nL 9.078125 54.6875 \r\nL 18.109375 54.6875 \r\nL 18.109375 46.1875 \r\nQ 21.34375 51.125 25.703125 53.5625 \r\nQ 30.078125 56 35.796875 56 \r\nQ 45.21875 56 50.046875 50.171875 \r\nQ 54.890625 44.34375 54.890625 33.015625 \r\nz\r\n\" id=\"DejaVuSans-110\"/>\r\n       <path d=\"M 5.515625 54.6875 \r\nL 48.1875 54.6875 \r\nL 48.1875 46.484375 \r\nL 14.40625 7.171875 \r\nL 48.1875 7.171875 \r\nL 48.1875 0 \r\nL 4.296875 0 \r\nL 4.296875 8.203125 \r\nL 38.09375 47.515625 \r\nL 5.515625 47.515625 \r\nz\r\n\" id=\"DejaVuSans-122\"/>\r\n       <path d=\"M 9.421875 54.6875 \r\nL 18.40625 54.6875 \r\nL 18.40625 0 \r\nL 9.421875 0 \r\nz\r\nM 9.421875 75.984375 \r\nL 18.40625 75.984375 \r\nL 18.40625 64.59375 \r\nL 9.421875 64.59375 \r\nz\r\n\" id=\"DejaVuSans-105\"/>\r\n       <path d=\"M 45.40625 46.390625 \r\nL 45.40625 75.984375 \r\nL 54.390625 75.984375 \r\nL 54.390625 0 \r\nL 45.40625 0 \r\nL 45.40625 8.203125 \r\nQ 42.578125 3.328125 38.25 0.953125 \r\nQ 33.9375 -1.421875 27.875 -1.421875 \r\nQ 17.96875 -1.421875 11.734375 6.484375 \r\nQ 5.515625 14.40625 5.515625 27.296875 \r\nQ 5.515625 40.1875 11.734375 48.09375 \r\nQ 17.96875 56 27.875 56 \r\nQ 33.9375 56 38.25 53.625 \r\nQ 42.578125 51.265625 45.40625 46.390625 \r\nz\r\nM 14.796875 27.296875 \r\nQ 14.796875 17.390625 18.875 11.75 \r\nQ 22.953125 6.109375 30.078125 6.109375 \r\nQ 37.203125 6.109375 41.296875 11.75 \r\nQ 45.40625 17.390625 45.40625 27.296875 \r\nQ 45.40625 37.203125 41.296875 42.84375 \r\nQ 37.203125 48.484375 30.078125 48.484375 \r\nQ 22.953125 48.484375 18.875 42.84375 \r\nQ 14.796875 37.203125 14.796875 27.296875 \r\nz\r\n\" id=\"DejaVuSans-100\"/>\r\n      </defs>\r\n      <use xlink:href=\"#DejaVuSans-55\"/>\r\n      <use x=\"63.623047\" xlink:href=\"#DejaVuSans-45\"/>\r\n      <use x=\"90.582031\" xlink:href=\"#DejaVuSans-84\"/>\r\n      <use x=\"135.166016\" xlink:href=\"#DejaVuSans-97\"/>\r\n      <use x=\"196.445312\" xlink:href=\"#DejaVuSans-103\"/>\r\n      <use x=\"259.921875\" xlink:href=\"#DejaVuSans-101\"/>\r\n      <use x=\"321.445312\" xlink:href=\"#DejaVuSans-115\"/>\r\n      <use x=\"373.544922\" xlink:href=\"#DejaVuSans-45\"/>\r\n      <use x=\"409.628906\" xlink:href=\"#DejaVuSans-73\"/>\r\n      <use x=\"439.121094\" xlink:href=\"#DejaVuSans-110\"/>\r\n      <use x=\"502.5\" xlink:href=\"#DejaVuSans-122\"/>\r\n      <use x=\"554.990234\" xlink:href=\"#DejaVuSans-105\"/>\r\n      <use x=\"582.773438\" xlink:href=\"#DejaVuSans-100\"/>\r\n      <use x=\"646.25\" xlink:href=\"#DejaVuSans-101\"/>\r\n      <use x=\"707.773438\" xlink:href=\"#DejaVuSans-110\"/>\r\n      <use x=\"771.152344\" xlink:href=\"#DejaVuSans-122\"/>\r\n     </g>\r\n    </g>\r\n   </g>\r\n  </g>\r\n </g>\r\n <defs>\r\n  <clipPath id=\"pbf7acea4f3\">\r\n   <rect height=\"195.84\" width=\"334.8\" x=\"33.2875\" y=\"7.2\"/>\r\n  </clipPath>\r\n </defs>\r\n</svg>\r\n",
      "image/png": "[encoded data removed]"
     },
     "metadata": {
      "needs_background": "light"
     }
    }
   ],
   "source": [
    "dfnbg.plot(x= 'Date',y='7-Tages-Inzidenz')"
   ]
  },
  {
   "source": [
    "# Wetterdaten holen"
   ],
   "cell_type": "markdown",
   "metadata": {}
  },
  {
   "cell_type": "code",
   "execution_count": 56,
   "metadata": {},
   "outputs": [
    {
     "output_type": "stream",
     "name": "stderr",
     "text": [
      "start_date and end_date filtering limited to defined periods [<Period.HISTORICAL: 'historical'>, <Period.RECENT: 'recent'>, <Period.NOW: 'now'>]\n",
      "The combination of kl, daily, now is invalid.\n"
     ]
    }
   ],
   "source": [
    "API = Wetterdienst(\"dwd\", \"observation\")\n",
    "\n",
    "request = API(\n",
    "    parameter=[\"climate_summary\"],\n",
    "    resolution=\"daily\",\n",
    "    start_date=\"2020-04-02\",  # Timezone: UTC\n",
    "    end_date=today,  # Timezone: UTC\n",
    "    tidy_data=True,  # default\n",
    "    humanize_parameters=True,  # default\n",
    " ).filter(station_id=[3668]) #Wetter für Nbg"
   ]
  },
  {
   "cell_type": "code",
   "execution_count": 57,
   "metadata": {},
   "outputs": [],
   "source": [
    "stations = request.df"
   ]
  },
  {
   "cell_type": "code",
   "execution_count": 58,
   "metadata": {},
   "outputs": [
    {
     "output_type": "stream",
     "name": "stderr",
     "text": [
      "100%|██████████| 1/1 [00:01<00:00,  1.57s/it]\n"
     ]
    }
   ],
   "source": [
    "values = request.values.all().df"
   ]
  },
  {
   "cell_type": "code",
   "execution_count": 121,
   "metadata": {},
   "outputs": [
    {
     "output_type": "execute_result",
     "data": {
      "text/plain": [
       "                       DATE STATION_ID    PARAMETER_SET      PARAMETER  VALUE  \\\n",
       "0 2020-04-02 00:00:00+00:00      03668  CLIMATE_SUMMARY  WIND_GUST_MAX    7.7   \n",
       "1 2020-04-03 00:00:00+00:00      03668  CLIMATE_SUMMARY  WIND_GUST_MAX    8.2   \n",
       "2 2020-04-04 00:00:00+00:00      03668  CLIMATE_SUMMARY  WIND_GUST_MAX    7.2   \n",
       "3 2020-04-05 00:00:00+00:00      03668  CLIMATE_SUMMARY  WIND_GUST_MAX   13.0   \n",
       "4 2020-04-06 00:00:00+00:00      03668  CLIMATE_SUMMARY  WIND_GUST_MAX    5.7   \n",
       "\n",
       "  QUALITY  \n",
       "0      10  \n",
       "1      10  \n",
       "2      10  \n",
       "3      10  \n",
       "4      10  "
      ],
      "text/html": "<div>\n<style scoped>\n    .dataframe tbody tr th:only-of-type {\n        vertical-align: middle;\n    }\n\n    .dataframe tbody tr th {\n        vertical-align: top;\n    }\n\n    .dataframe thead th {\n        text-align: right;\n    }\n</style>\n<table border=\"1\" class=\"dataframe\">\n  <thead>\n    <tr style=\"text-align: right;\">\n      <th></th>\n      <th>DATE</th>\n      <th>STATION_ID</th>\n      <th>PARAMETER_SET</th>\n      <th>PARAMETER</th>\n      <th>VALUE</th>\n      <th>QUALITY</th>\n    </tr>\n  </thead>\n  <tbody>\n    <tr>\n      <th>0</th>\n      <td>2020-04-02 00:00:00+00:00</td>\n      <td>03668</td>\n      <td>CLIMATE_SUMMARY</td>\n      <td>WIND_GUST_MAX</td>\n      <td>7.7</td>\n      <td>10</td>\n    </tr>\n    <tr>\n      <th>1</th>\n      <td>2020-04-03 00:00:00+00:00</td>\n      <td>03668</td>\n      <td>CLIMATE_SUMMARY</td>\n      <td>WIND_GUST_MAX</td>\n      <td>8.2</td>\n      <td>10</td>\n    </tr>\n    <tr>\n      <th>2</th>\n      <td>2020-04-04 00:00:00+00:00</td>\n      <td>03668</td>\n      <td>CLIMATE_SUMMARY</td>\n      <td>WIND_GUST_MAX</td>\n      <td>7.2</td>\n      <td>10</td>\n    </tr>\n    <tr>\n      <th>3</th>\n      <td>2020-04-05 00:00:00+00:00</td>\n      <td>03668</td>\n      <td>CLIMATE_SUMMARY</td>\n      <td>WIND_GUST_MAX</td>\n      <td>13.0</td>\n      <td>10</td>\n    </tr>\n    <tr>\n      <th>4</th>\n      <td>2020-04-06 00:00:00+00:00</td>\n      <td>03668</td>\n      <td>CLIMATE_SUMMARY</td>\n      <td>WIND_GUST_MAX</td>\n      <td>5.7</td>\n      <td>10</td>\n    </tr>\n  </tbody>\n</table>\n</div>"
     },
     "metadata": {},
     "execution_count": 121
    }
   ],
   "source": [
    "values.head()"
   ]
  },
  {
   "cell_type": "code",
   "execution_count": 120,
   "metadata": {},
   "outputs": [
    {
     "output_type": "execute_result",
     "data": {
      "text/plain": [
       "WIND_SPEED                 343\n",
       "WIND_GUST_MAX              343\n",
       "CLOUD_COVER_TOTAL          343\n",
       "PRESSURE_AIR               343\n",
       "PRECIPITATION_HEIGHT       343\n",
       "PRECIPITATION_FORM         343\n",
       "SUNSHINE_DURATION          343\n",
       "SNOW_DEPTH                 343\n",
       "TEMPERATURE_AIR_MIN_005    343\n",
       "TEMPERATURE_AIR_200        343\n",
       "TEMPERATURE_AIR_MIN_200    343\n",
       "TEMPERATURE_AIR_MAX_200    343\n",
       "HUMIDITY                   343\n",
       "PRESSURE_VAPOR             343\n",
       "Name: PARAMETER, dtype: int64"
      ]
     },
     "metadata": {},
     "execution_count": 120
    }
   ],
   "source": [
    "values.PARAMETER.value_counts()"
   ]
  },
  {
   "cell_type": "code",
   "execution_count": 122,
   "metadata": {},
   "outputs": [],
   "source": [
    "values = values.loc[values['PARAMETER'] == 'SUNSHINE_DURATION']"
   ]
  },
  {
   "cell_type": "code",
   "execution_count": 124,
   "metadata": {},
   "outputs": [
    {
     "output_type": "execute_result",
     "data": {
      "text/plain": [
       "                          DATE STATION_ID    PARAMETER_SET          PARAMETER  \\\n",
       "1372 2020-04-02 00:00:00+00:00      03668  CLIMATE_SUMMARY  SUNSHINE_DURATION   \n",
       "1373 2020-04-03 00:00:00+00:00      03668  CLIMATE_SUMMARY  SUNSHINE_DURATION   \n",
       "1374 2020-04-04 00:00:00+00:00      03668  CLIMATE_SUMMARY  SUNSHINE_DURATION   \n",
       "1375 2020-04-05 00:00:00+00:00      03668  CLIMATE_SUMMARY  SUNSHINE_DURATION   \n",
       "1376 2020-04-06 00:00:00+00:00      03668  CLIMATE_SUMMARY  SUNSHINE_DURATION   \n",
       "...                        ...        ...              ...                ...   \n",
       "1710 2021-03-06 00:00:00+00:00      03668  CLIMATE_SUMMARY  SUNSHINE_DURATION   \n",
       "1711 2021-03-07 00:00:00+00:00      03668  CLIMATE_SUMMARY  SUNSHINE_DURATION   \n",
       "1712 2021-03-08 00:00:00+00:00      03668  CLIMATE_SUMMARY  SUNSHINE_DURATION   \n",
       "1713 2021-03-09 00:00:00+00:00      03668  CLIMATE_SUMMARY  SUNSHINE_DURATION   \n",
       "1714 2021-03-10 00:00:00+00:00      03668  CLIMATE_SUMMARY  SUNSHINE_DURATION   \n",
       "\n",
       "       VALUE QUALITY  \n",
       "1372  12.433       3  \n",
       "1373   2.067       3  \n",
       "1374  12.050       3  \n",
       "1375  12.667       3  \n",
       "1376  12.700       3  \n",
       "...      ...     ...  \n",
       "1710  11.050       1  \n",
       "1711  11.100       1  \n",
       "1712   0.583       1  \n",
       "1713   5.450       1  \n",
       "1714     NaN     NaN  \n",
       "\n",
       "[343 rows x 6 columns]"
      ],
      "text/html": "<div>\n<style scoped>\n    .dataframe tbody tr th:only-of-type {\n        vertical-align: middle;\n    }\n\n    .dataframe tbody tr th {\n        vertical-align: top;\n    }\n\n    .dataframe thead th {\n        text-align: right;\n    }\n</style>\n<table border=\"1\" class=\"dataframe\">\n  <thead>\n    <tr style=\"text-align: right;\">\n      <th></th>\n      <th>DATE</th>\n      <th>STATION_ID</th>\n      <th>PARAMETER_SET</th>\n      <th>PARAMETER</th>\n      <th>VALUE</th>\n      <th>QUALITY</th>\n    </tr>\n  </thead>\n  <tbody>\n    <tr>\n      <th>1372</th>\n      <td>2020-04-02 00:00:00+00:00</td>\n      <td>03668</td>\n      <td>CLIMATE_SUMMARY</td>\n      <td>SUNSHINE_DURATION</td>\n      <td>12.433</td>\n      <td>3</td>\n    </tr>\n    <tr>\n      <th>1373</th>\n      <td>2020-04-03 00:00:00+00:00</td>\n      <td>03668</td>\n      <td>CLIMATE_SUMMARY</td>\n      <td>SUNSHINE_DURATION</td>\n      <td>2.067</td>\n      <td>3</td>\n    </tr>\n    <tr>\n      <th>1374</th>\n      <td>2020-04-04 00:00:00+00:00</td>\n      <td>03668</td>\n      <td>CLIMATE_SUMMARY</td>\n      <td>SUNSHINE_DURATION</td>\n      <td>12.050</td>\n      <td>3</td>\n    </tr>\n    <tr>\n      <th>1375</th>\n      <td>2020-04-05 00:00:00+00:00</td>\n      <td>03668</td>\n      <td>CLIMATE_SUMMARY</td>\n      <td>SUNSHINE_DURATION</td>\n      <td>12.667</td>\n      <td>3</td>\n    </tr>\n    <tr>\n      <th>1376</th>\n      <td>2020-04-06 00:00:00+00:00</td>\n      <td>03668</td>\n      <td>CLIMATE_SUMMARY</td>\n      <td>SUNSHINE_DURATION</td>\n      <td>12.700</td>\n      <td>3</td>\n    </tr>\n    <tr>\n      <th>...</th>\n      <td>...</td>\n      <td>...</td>\n      <td>...</td>\n      <td>...</td>\n      <td>...</td>\n      <td>...</td>\n    </tr>\n    <tr>\n      <th>1710</th>\n      <td>2021-03-06 00:00:00+00:00</td>\n      <td>03668</td>\n      <td>CLIMATE_SUMMARY</td>\n      <td>SUNSHINE_DURATION</td>\n      <td>11.050</td>\n      <td>1</td>\n    </tr>\n    <tr>\n      <th>1711</th>\n      <td>2021-03-07 00:00:00+00:00</td>\n      <td>03668</td>\n      <td>CLIMATE_SUMMARY</td>\n      <td>SUNSHINE_DURATION</td>\n      <td>11.100</td>\n      <td>1</td>\n    </tr>\n    <tr>\n      <th>1712</th>\n      <td>2021-03-08 00:00:00+00:00</td>\n      <td>03668</td>\n      <td>CLIMATE_SUMMARY</td>\n      <td>SUNSHINE_DURATION</td>\n      <td>0.583</td>\n      <td>1</td>\n    </tr>\n    <tr>\n      <th>1713</th>\n      <td>2021-03-09 00:00:00+00:00</td>\n      <td>03668</td>\n      <td>CLIMATE_SUMMARY</td>\n      <td>SUNSHINE_DURATION</td>\n      <td>5.450</td>\n      <td>1</td>\n    </tr>\n    <tr>\n      <th>1714</th>\n      <td>2021-03-10 00:00:00+00:00</td>\n      <td>03668</td>\n      <td>CLIMATE_SUMMARY</td>\n      <td>SUNSHINE_DURATION</td>\n      <td>NaN</td>\n      <td>NaN</td>\n    </tr>\n  </tbody>\n</table>\n<p>343 rows × 6 columns</p>\n</div>"
     },
     "metadata": {},
     "execution_count": 124
    }
   ],
   "source": [
    "values"
   ]
  },
  {
   "cell_type": "code",
   "execution_count": null,
   "metadata": {},
   "outputs": [],
   "source": []
  }
 ]
}