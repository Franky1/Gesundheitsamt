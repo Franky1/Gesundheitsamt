{
 "metadata": {
  "language_info": {
   "codemirror_mode": {
    "name": "ipython",
    "version": 3
   },
   "file_extension": ".py",
   "mimetype": "text/x-python",
   "name": "python",
   "nbconvert_exporter": "python",
   "pygments_lexer": "ipython3",
   "version": "3.7.10-final"
  },
  "orig_nbformat": 2,
  "kernelspec": {
   "name": "python3",
   "display_name": "Python 3.7.10 64-bit (conda)",
   "metadata": {
    "interpreter": {
     "hash": "ed225720166559e7176d3793db16a2fd8d295f725007103b21ac3099d2a89ee8"
    }
   }
  }
 },
 "nbformat": 4,
 "nbformat_minor": 2,
 "cells": [
  {
   "cell_type": "code",
   "execution_count": 46,
   "metadata": {},
   "outputs": [],
   "source": [
    "import pandas as pd\n",
    "from DatenSammlung import DatenVergangenheitHolen, FeiertageHolen\n",
    "from datetime import date, timedelta\n",
    "\n",
    "\n"
   ]
  },
  {
   "cell_type": "code",
   "execution_count": 29,
   "metadata": {},
   "outputs": [
    {
     "output_type": "stream",
     "name": "stdout",
     "text": [
      "Today's date: 2021-03-20\n"
     ]
    }
   ],
   "source": [
    "today = date.today()\n",
    "yesterday = today - timedelta(days = 1)\n",
    "print(\"Today's date:\", today)"
   ]
  },
  {
   "cell_type": "code",
   "execution_count": 2,
   "metadata": {},
   "outputs": [
    {
     "output_type": "stream",
     "name": "stderr",
     "text": [
      "start_date and end_date filtering limited to defined periods [<Period.HISTORICAL: 'historical'>, <Period.RECENT: 'recent'>, <Period.NOW: 'now'>]\n",
      "The combination of kl, daily, now is invalid.\n",
      "100%|██████████| 1/1 [00:01<00:00,  1.53s/it]\n",
      "C:\\Anaconda\\lib\\site-packages\\IPython\\core\\interactiveshell.py:3357: DtypeWarning: Columns (2,3) have mixed types.Specify dtype option on import or set low_memory=False.\n",
      "  if (await self.run_code(code, result,  async_=asy)):\n"
     ]
    },
    {
     "output_type": "execute_result",
     "data": {
      "text/plain": [
       "           Date  StringencyIndexForDisplay\n",
       "37380  20200101                        0.0\n",
       "37381  20200102                        0.0\n",
       "37382  20200103                        0.0\n",
       "37383  20200104                        0.0\n",
       "37384  20200105                        0.0"
      ],
      "text/html": "<div>\n<style scoped>\n    .dataframe tbody tr th:only-of-type {\n        vertical-align: middle;\n    }\n\n    .dataframe tbody tr th {\n        vertical-align: top;\n    }\n\n    .dataframe thead th {\n        text-align: right;\n    }\n</style>\n<table border=\"1\" class=\"dataframe\">\n  <thead>\n    <tr style=\"text-align: right;\">\n      <th></th>\n      <th>Date</th>\n      <th>StringencyIndexForDisplay</th>\n    </tr>\n  </thead>\n  <tbody>\n    <tr>\n      <th>37380</th>\n      <td>20200101</td>\n      <td>0.0</td>\n    </tr>\n    <tr>\n      <th>37381</th>\n      <td>20200102</td>\n      <td>0.0</td>\n    </tr>\n    <tr>\n      <th>37382</th>\n      <td>20200103</td>\n      <td>0.0</td>\n    </tr>\n    <tr>\n      <th>37383</th>\n      <td>20200104</td>\n      <td>0.0</td>\n    </tr>\n    <tr>\n      <th>37384</th>\n      <td>20200105</td>\n      <td>0.0</td>\n    </tr>\n  </tbody>\n</table>\n</div>"
     },
     "metadata": {},
     "execution_count": 2
    }
   ],
   "source": [
    "CoronaWerte, Wetter, Restriktionen = DatenVergangenheitHolen()\n",
    "CoronaWerte.head()\n",
    "Wetter.head()\n",
    "Restriktionen.head()"
   ]
  },
  {
   "cell_type": "code",
   "execution_count": 3,
   "metadata": {},
   "outputs": [],
   "source": [
    "CoronaWerte.loc[:,'Date'] = pd.to_datetime(CoronaWerte['Refdatum'])\n",
    "CoronaWerte.Date = CoronaWerte.Date.dt.date\n",
    "CoronaWerte = CoronaWerte.drop(columns=['Refdatum'])\n",
    "CoronaWerte.loc[:,'Date'] = pd.to_datetime(CoronaWerte['Date'],format='%Y%m%d')\n",
    "Wetter.DATE = Wetter.DATE.dt.date\n",
    "Wetter = Wetter.drop(columns=['STATION_ID','PARAMETER_SET','PARAMETER','QUALITY'])\n",
    "Wetter.loc[:,'DATE'] = pd.to_datetime(Wetter['DATE'])\n",
    "Wetter = Wetter.rename(columns={\"VALUE\": \"Temperatur\"})\n",
    "Restriktionen.loc[:,'Date'] = pd.to_datetime(Restriktionen['Date'],format='%Y%m%d')\n",
    "Restriktionen = Restriktionen.rename(columns={\"StringencyIndexForDisplay\": \"ResNbg\"})"
   ]
  },
  {
   "cell_type": "code",
   "execution_count": 11,
   "metadata": {},
   "outputs": [
    {
     "output_type": "error",
     "ename": "KeyError",
     "evalue": "\"None of ['Date'] are in the columns\"",
     "traceback": [
      "\u001b[1;31m---------------------------------------------------------------------------\u001b[0m",
      "\u001b[1;31mKeyError\u001b[0m                                  Traceback (most recent call last)",
      "\u001b[1;32m<ipython-input-11-7367575bd9c7>\u001b[0m in \u001b[0;36m<module>\u001b[1;34m\u001b[0m\n\u001b[0;32m      1\u001b[0m \u001b[0mCoronaWerte\u001b[0m \u001b[1;33m=\u001b[0m \u001b[0mCoronaWerte\u001b[0m\u001b[1;33m.\u001b[0m\u001b[0mset_index\u001b[0m\u001b[1;33m(\u001b[0m\u001b[1;34m'Date'\u001b[0m\u001b[1;33m)\u001b[0m\u001b[1;33m\u001b[0m\u001b[1;33m\u001b[0m\u001b[0m\n\u001b[0;32m      2\u001b[0m \u001b[0mWetter\u001b[0m \u001b[1;33m=\u001b[0m \u001b[0mWetter\u001b[0m\u001b[1;33m.\u001b[0m\u001b[0mset_index\u001b[0m\u001b[1;33m(\u001b[0m\u001b[1;34m'DATE'\u001b[0m\u001b[1;33m)\u001b[0m\u001b[1;33m\u001b[0m\u001b[1;33m\u001b[0m\u001b[0m\n\u001b[1;32m----> 3\u001b[1;33m \u001b[0mRestriktionen\u001b[0m \u001b[1;33m=\u001b[0m \u001b[0mRestriktionen\u001b[0m\u001b[1;33m.\u001b[0m\u001b[0mset_index\u001b[0m\u001b[1;33m(\u001b[0m\u001b[1;34m'Date'\u001b[0m\u001b[1;33m)\u001b[0m\u001b[1;33m\u001b[0m\u001b[1;33m\u001b[0m\u001b[0m\n\u001b[0m",
      "\u001b[1;32mC:\\Anaconda\\lib\\site-packages\\pandas\\core\\frame.py\u001b[0m in \u001b[0;36mset_index\u001b[1;34m(self, keys, drop, append, inplace, verify_integrity)\u001b[0m\n\u001b[0;32m   4725\u001b[0m \u001b[1;33m\u001b[0m\u001b[0m\n\u001b[0;32m   4726\u001b[0m         \u001b[1;32mif\u001b[0m \u001b[0mmissing\u001b[0m\u001b[1;33m:\u001b[0m\u001b[1;33m\u001b[0m\u001b[1;33m\u001b[0m\u001b[0m\n\u001b[1;32m-> 4727\u001b[1;33m             \u001b[1;32mraise\u001b[0m \u001b[0mKeyError\u001b[0m\u001b[1;33m(\u001b[0m\u001b[1;34mf\"None of {missing} are in the columns\"\u001b[0m\u001b[1;33m)\u001b[0m\u001b[1;33m\u001b[0m\u001b[1;33m\u001b[0m\u001b[0m\n\u001b[0m\u001b[0;32m   4728\u001b[0m \u001b[1;33m\u001b[0m\u001b[0m\n\u001b[0;32m   4729\u001b[0m         \u001b[1;32mif\u001b[0m \u001b[0minplace\u001b[0m\u001b[1;33m:\u001b[0m\u001b[1;33m\u001b[0m\u001b[1;33m\u001b[0m\u001b[0m\n",
      "\u001b[1;31mKeyError\u001b[0m: \"None of ['Date'] are in the columns\""
     ]
    }
   ],
   "source": [
    "CoronaWerte = CoronaWerte.set_index('Date')\n",
    "Wetter = Wetter.set_index('DATE')\n",
    "Restriktionen = Restriktionen.set_index('Date')"
   ]
  },
  {
   "cell_type": "code",
   "execution_count": 31,
   "metadata": {},
   "outputs": [],
   "source": [
    "CoronaWerte = CoronaWerte.loc['2020-04-02':yesterday,:]"
   ]
  },
  {
   "cell_type": "code",
   "execution_count": 32,
   "metadata": {},
   "outputs": [],
   "source": [
    "Wetter = Wetter.loc['2020-04-02':yesterday,:]"
   ]
  },
  {
   "cell_type": "code",
   "execution_count": 33,
   "metadata": {},
   "outputs": [],
   "source": [
    "Restriktionen = Restriktionen.loc['2020-04-02':yesterday,:]"
   ]
  },
  {
   "cell_type": "code",
   "execution_count": 38,
   "metadata": {},
   "outputs": [],
   "source": [
    "Restriktionen = Restriktionen.interpolate(method='linear')"
   ]
  },
  {
   "cell_type": "code",
   "execution_count": 39,
   "metadata": {},
   "outputs": [],
   "source": [
    "Wetter = Wetter.interpolate(method='linear')"
   ]
  },
  {
   "cell_type": "code",
   "execution_count": 40,
   "metadata": {},
   "outputs": [],
   "source": [
    "CoronaWerte = CoronaWerte.interpolate(method='linear')"
   ]
  },
  {
   "cell_type": "code",
   "execution_count": 57,
   "metadata": {},
   "outputs": [],
   "source": [
    "CoronaWerte = CoronaWerte.join([Wetter,Restriktionen])"
   ]
  },
  {
   "cell_type": "code",
   "execution_count": 59,
   "metadata": {},
   "outputs": [
    {
     "output_type": "execute_result",
     "data": {
      "text/plain": [
       "''"
      ]
     },
     "metadata": {},
     "execution_count": 59
    }
   ],
   "source": []
  },
  {
   "cell_type": "code",
   "execution_count": null,
   "metadata": {},
   "outputs": [],
   "source": []
  }
 ]
}