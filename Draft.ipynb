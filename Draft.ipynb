{
 "metadata": {
  "language_info": {
   "codemirror_mode": {
    "name": "ipython",
    "version": 3
   },
   "file_extension": ".py",
   "mimetype": "text/x-python",
   "name": "python",
   "nbconvert_exporter": "python",
   "pygments_lexer": "ipython3",
   "version": "3.7.10-final"
  },
  "orig_nbformat": 2,
  "kernelspec": {
   "name": "python3",
   "display_name": "Python 3.7.10 64-bit (virtualenv)",
   "metadata": {
    "interpreter": {
     "hash": "0308cd65a89b2c580fd9b73d5e60ec4f57a81823b161c5c9da8c81fb7fb1cd60"
    }
   }
  }
 },
 "nbformat": 4,
 "nbformat_minor": 2,
 "cells": [
  {
   "source": [
    "# Draft von Jochen Keilholz \n",
    "Ziel ist die Modellierung und Vorhersage des 7-Tage Inzidenzwerts in Nürnberg"
   ],
   "cell_type": "markdown",
   "metadata": {}
  },
  {
   "source": [
    "Inhalt:\n",
    "\n",
    "1. Grundlagen\n",
    "2. Datenquellen\n",
    "3. Datenanalyse\n",
    "4. Modelbildung\n",
    "5. Visualisierung\n",
    "6. Bereitstellung"
   ],
   "cell_type": "markdown",
   "metadata": {}
  },
  {
   "source": [
    "# 1. Grundlagen"
   ],
   "cell_type": "markdown",
   "metadata": {}
  },
  {
   "source": [
    "Die Idee ist die Einflussfaktoren/Features (Zeitreihen) des 7-Tage Inzidenzwerts (im folgenden 7TIW genannt) zu <br>\n",
    "erforschen und auf Grundlage dieser den 7TIW zu modellieren. Der 7TIW wird als Target bezeichnet.\n",
    "\n",
    "Folgende Features sollen in das Model einfließen:\n",
    "\n",
    "* Wetter\n",
    "* Kalenderspeziefische Informationen (Feiertage, etc)\n",
    "* Restriktionen der Regierung\n",
    "* Mobilitätsbericht\n",
    "* Werte angrenzender Lankreise\n",
    "* Anzahl der geimpften Menschen in Bayern\n",
    "* Hotspots/deren Entwicklung in NBG\n",
    "* andere Coronawerte ?\n"
   ],
   "cell_type": "markdown",
   "metadata": {}
  },
  {
   "cell_type": "code",
   "execution_count": null,
   "metadata": {},
   "outputs": [],
   "source": []
  }
 ]
}