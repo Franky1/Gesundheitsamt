{
 "metadata": {
  "language_info": {
   "codemirror_mode": {
    "name": "ipython",
    "version": 3
   },
   "file_extension": ".py",
   "mimetype": "text/x-python",
   "name": "python",
   "nbconvert_exporter": "python",
   "pygments_lexer": "ipython3",
   "version": "3.7.10-final"
  },
  "orig_nbformat": 2,
  "kernelspec": {
   "name": "python3",
   "display_name": "Python 3.7.10 64-bit (virtualenv)",
   "metadata": {
    "interpreter": {
     "hash": "0308cd65a89b2c580fd9b73d5e60ec4f57a81823b161c5c9da8c81fb7fb1cd60"
    }
   }
  }
 },
 "nbformat": 4,
 "nbformat_minor": 2,
 "cells": [
  {
   "source": [
    "# Draft von Jochen Keilholz \n",
    "Ziel ist die Modellierung und Vorhersage des 7-Tage Inzidenzwerts in Nürnberg"
   ],
   "cell_type": "markdown",
   "metadata": {}
  },
  {
   "source": [
    "Inhalt:\n",
    "\n",
    "1. Grundlagen\n",
    "2. Datenquellen\n",
    "3. Datenanalyse/Vorverarbeitung\n",
    "4. Modelbildung\n",
    "5. Visualisierung\n",
    "6. Bereitstellung"
   ],
   "cell_type": "markdown",
   "metadata": {}
  },
  {
   "source": [
    "# 1. Grundlagen"
   ],
   "cell_type": "markdown",
   "metadata": {}
  },
  {
   "source": [
    "Die Idee ist die Einflussfaktoren/Features (Zeitreihen) des 7-Tage Inzidenzwerts (im folgenden 7TIW genannt) zu <br>\n",
    "erforschen und auf Grundlage dieser den 7TIW zu modellieren. Der 7TIW wird als Target bezeichnet.\n",
    "\n",
    "Folgende Features sollen in das Model einfließen:\n",
    "\n",
    "* Wetter\n",
    "* Kalenderspeziefische Informationen (Feiertage, etc)\n",
    "* Restriktionen der Regierung\n",
    "* Mobilitätsbericht\n",
    "* Werte angrenzender Lankreise\n",
    "* Anzahl der geimpften Menschen in Bayern\n",
    "* Hotspots/deren Entwicklung in NBG\n",
    "* andere Coronawerte ?\n",
    "\n",
    "Entwickelt wird in Python. Verwendete Daten werden aus open scource quellen genutzt.\n",
    "\n",
    "Ausgeliefert kann die Pipeline in verschiedenen Formen z.B. docker Container, streamlit app, python file..."
   ],
   "cell_type": "markdown",
   "metadata": {}
  },
  {
   "source": [
    "# 2. Datenquellen\n",
    "Die bisher recherchierten Datenquellen: <br> \n",
    "\n",
    "Für das Target: https://online-service2.nuernberg.de/aswn/ASW.exe?aw=HCOR_J03 <br>\n",
    "\n",
    "Features: <br>\n",
    "Wetter: Daten vom DWD (open source) https://pypi.org/project/dwdweather2/ <br>\n",
    "Kalenderdaten: https://feiertage-api.de/ <br>\n",
    "Restriktionen der Regierung: https://covidtracker.bsg.ox.ac.uk/ <br>\n",
    "Mobilitätsbericht: https://www.google.com/covid19/mobility/ <br>\n",
    "Werte angrenzender Landkreise: tbd <br>\n",
    "Anzahl geimpfte Menschen in Bayern: tbd <br> \n",
    "Hotspots: tbd <br>\n",
    "\n"
   ],
   "cell_type": "markdown",
   "metadata": {}
  },
  {
   "source": [
    "# 3. Datenanalyse/Vorverarbeitung \n",
    "\n",
    "Vorhersagebereich (alles und/oder): <br>\n",
    "* Mittelwert für die nächste/n Woche/n\n",
    "* Trend, geht der 7TIW hoch oder runter\n",
    "* Tageswerte für nächste Woche \n",
    "\n",
    "Vorverarbeitung der Features: <br>\n",
    "Manche Zeitreihen werden nicht Tagesaktuell zur Verfügung stehen.<br>\n",
    "Für die \"fehlenden\" Werte sollen entweder lineare Interpolationen oder Schätzwerte durch andere Modelle verwendet werden.\n",
    "\n",
    "Verarbeitung des Datums zu: Tag im Jahr, Wochentag, etc...\n",
    "\n",
    "Evtl.: Scaling des Targets (Gleitendes Mittel über die 7 Tage) o.ä. <br>\n",
    "Wird sich zeigen wenn klar ist was vorhergesagt werden soll.\n"
   ],
   "cell_type": "markdown",
   "metadata": {}
  },
  {
   "source": [
    "# 4. Modellbildung\n",
    "\n",
    "Zwei vorschläge gibt es bis jetzt:\n",
    "\n",
    "1. Lineares Model (fbprophet) einzeln oder mit zusätzlichen Regressoren. Mit diesem Model könnte man Vorhersagen treffen ohne täglichen     eigenen Input\n",
    "2. Gradient Boosted Trees (viele Entscheidungsbäume z.B. XGB). Mit dieser Art von Model könnte man auch mit den Inputparametern für die     nächste Woche \"spielen\". Z.B. testen wie verhält sich der Output wenn es doch \"viel\" Wärmer würde. Mit diesem Model kann auch der        Einfluss der einzelnen Features auf den Output geschätzt werden (wie wichtig erachtet das Model das Wetter, die Restriktionen, etc...) "
   ],
   "cell_type": "markdown",
   "metadata": {}
  },
  {
   "source": [
    "# 5. Visualisierung\n",
    "\n",
    "\n",
    "\n",
    "\n",
    "Pipeline wie crispdm:<br>\n",
    "\n",
    "<div>\n",
    "<img src=\"crispdm.jpg\" width=\"300\"/>\n",
    "</div>\n",
    "\n",
    "\n",
    "Visualisierung der Outputs: <br>\n",
    "* Fortführung der Zeitreihe im Vorhersagebreich <br>\n",
    "  Beispielsweise wie hier:<br>\n",
    "  <div>\n",
    "  <img src=\"BspZeitreihe.png\" width=\"300\"/>\n",
    "  </div>\n",
    "\n",
    "* Pfeil (hoch/runter/horizontal)\n"
   ],
   "cell_type": "markdown",
   "metadata": {}
  },
  {
   "source": [
    "# 6. Bereitstellung\n",
    "\n",
    "Je nach dem auf welcher Architektur der Prozess laufen soll:\n",
    "* Docker container der die Outputs ablegt\n",
    "* Jupyter Notebook\n",
    "* Python script\n",
    "* Streamlit im Browser, hier können auch die Inputparameter einfach verändert werden um zu testen wie die Vorhersage sich verhält!"
   ],
   "cell_type": "markdown",
   "metadata": {}
  }
 ]
}